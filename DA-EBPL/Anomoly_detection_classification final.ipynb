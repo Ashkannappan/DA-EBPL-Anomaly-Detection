{
  "cells": [
    {
      "cell_type": "code",
      "execution_count": null,
      "metadata": {
        "colab": {
          "base_uri": "https://localhost:8080/",
          "height": 0
        },
        "id": "f9Y7NkQSM_pZ",
        "outputId": "b3f7ee1d-e5bd-4d7b-9dad-ac2afba5f5db"
      },
      "outputs": [],
      "source": [
        "# pip install lazypredict\n",
        "# pip install imbalanced-learn\n",
        "# pip install optuna"
      ]
    },
    {
      "cell_type": "code",
      "execution_count": null,
      "metadata": {
        "id": "4DNE3aAF5_C4"
      },
      "outputs": [],
      "source": [
        "from lazypredict.Supervised import LazyClassifier  # use LazyRegressor for regression\n",
        "from sklearn.model_selection import train_test_split\n",
        "from sklearn.metrics import accuracy_score, f1_score, precision_score, recall_score, roc_auc_score\n",
        "\n",
        "import pandas as pd\n"
      ]
    },
    {
      "cell_type": "code",
      "execution_count": null,
      "metadata": {
        "id": "Bdb3huJ4gI4g"
      },
      "outputs": [],
      "source": [
        "import optuna\n",
        "from sklearn.model_selection import train_test_split, cross_val_score, StratifiedKFold\n",
        "from sklearn.metrics import classification_report, confusion_matrix\n",
        "from sklearn.ensemble import AdaBoostClassifier\n",
        "from sklearn.naive_bayes import BernoulliNB\n",
        "from sklearn.ensemble import RandomForestClassifier\n",
        "from sklearn.neighbors import NearestCentroid\n",
        "from xgboost import XGBClassifier\n",
        "import numpy as np\n",
        "import pandas as pd\n",
        "import warnings\n",
        "warnings.filterwarnings(\"ignore\")"
      ]
    },
    {
      "cell_type": "code",
      "execution_count": null,
      "metadata": {
        "id": "7HVnXUpr0Yrg"
      },
      "outputs": [],
      "source": [
        "sample_df=pd.read_csv(\"D:/DA-EBPL/Sample_submission.csv\")"
      ]
    },
    {
      "cell_type": "code",
      "execution_count": null,
      "metadata": {
        "id": "QQxXYwKt1euI"
      },
      "outputs": [],
      "source": [
        "Train_df=pd.read_csv(\"D:/DA-EBPL/Train.csv\")"
      ]
    },
    {
      "cell_type": "code",
      "execution_count": null,
      "metadata": {
        "id": "7MgRFAsI1mR1"
      },
      "outputs": [],
      "source": [
        "Test_df=pd.read_csv(\"D:/DA-EBPL/Test.csv\")"
      ]
    },
    {
      "cell_type": "code",
      "execution_count": null,
      "metadata": {
        "colab": {
          "base_uri": "https://localhost:8080/",
          "height": 255
        },
        "id": "RXASiuCI5_jB",
        "outputId": "9cdd0ab2-5e41-4424-b941-5c07f5596ddb"
      },
      "outputs": [],
      "source": [
        "Train_df.head()"
      ]
    },
    {
      "cell_type": "code",
      "execution_count": null,
      "metadata": {
        "colab": {
          "base_uri": "https://localhost:8080/",
          "height": 255
        },
        "id": "6wxtA-WP6xDu",
        "outputId": "eeb94582-7a59-4bb8-e622-527081e21da2"
      },
      "outputs": [],
      "source": [
        "Test_df.head()"
      ]
    },
    {
      "cell_type": "code",
      "execution_count": null,
      "metadata": {
        "colab": {
          "base_uri": "https://localhost:8080/",
          "height": 206
        },
        "id": "wTp4buG97Ama",
        "outputId": "c5b4b460-5ad9-4db3-f347-b95be4a1a35e"
      },
      "outputs": [],
      "source": [
        "sample_df.head()"
      ]
    },
    {
      "cell_type": "code",
      "execution_count": null,
      "metadata": {
        "colab": {
          "base_uri": "https://localhost:8080/",
          "height": 0
        },
        "id": "XCqYQCKT68sn",
        "outputId": "a80576e0-3e9f-4e4b-d44b-467ba056423f"
      },
      "outputs": [],
      "source": [
        "Train_df.shape"
      ]
    },
    {
      "cell_type": "code",
      "execution_count": null,
      "metadata": {
        "id": "9TdR8BvIMEoZ"
      },
      "outputs": [],
      "source": [
        "## EDA"
      ]
    },
    {
      "cell_type": "code",
      "execution_count": null,
      "metadata": {
        "colab": {
          "base_uri": "https://localhost:8080/",
          "height": 178
        },
        "id": "dxQkCeGh5_mn",
        "outputId": "b4169086-23ad-4cab-be6b-ad7557b90215"
      },
      "outputs": [],
      "source": [
        "Train_df[\"Class\"].value_counts()"
      ]
    },
    {
      "cell_type": "code",
      "execution_count": null,
      "metadata": {
        "id": "bzrJRCwEAKJo"
      },
      "outputs": [],
      "source": [
        "Bool_cols=[ i for i in Train_df.columns.to_list() if Train_df[i].nunique()==2]"
      ]
    },
    {
      "cell_type": "code",
      "execution_count": null,
      "metadata": {
        "colab": {
          "base_uri": "https://localhost:8080/",
          "height": 0
        },
        "id": "ZT1ylVvhAxLn",
        "outputId": "37ba85d9-9c6f-4e50-b46e-0bccd00708ef"
      },
      "outputs": [],
      "source": [
        "len(Bool_cols)"
      ]
    },
    {
      "cell_type": "code",
      "execution_count": null,
      "metadata": {
        "id": "xFpCdVnKA0jc"
      },
      "outputs": [],
      "source": [
        "Other_cols=set(Train_df.columns.to_list())-set(Bool_cols)"
      ]
    },
    {
      "cell_type": "code",
      "execution_count": null,
      "metadata": {
        "colab": {
          "base_uri": "https://localhost:8080/",
          "height": 0
        },
        "id": "kiHTY_dcA9_q",
        "outputId": "60dae08f-9e92-420a-bf38-7d63877c890a"
      },
      "outputs": [],
      "source": [
        "len(Other_cols)"
      ]
    },
    {
      "cell_type": "code",
      "execution_count": null,
      "metadata": {
        "colab": {
          "base_uri": "https://localhost:8080/",
          "height": 458
        },
        "id": "QhDfKhrDBF5B",
        "outputId": "5730ba0b-c2c4-4f42-bd86-381d19c228a9"
      },
      "outputs": [],
      "source": [
        "Train_df[list(Bool_cols)].sum()"
      ]
    },
    {
      "cell_type": "code",
      "execution_count": null,
      "metadata": {
        "colab": {
          "base_uri": "https://localhost:8080/",
          "height": 0
        },
        "id": "uPUE08PDBF-g",
        "outputId": "2b75ef65-d714-467b-8e33-4ca237ee44d1"
      },
      "outputs": [],
      "source": [
        "Train_df[\"feature_4\"].nunique()"
      ]
    },
    {
      "cell_type": "code",
      "execution_count": null,
      "metadata": {
        "id": "W-jO-7N5BGCr"
      },
      "outputs": [],
      "source": [
        "No_variance_column=[i for i in Other_cols if Train_df[i].nunique() ==1]"
      ]
    },
    {
      "cell_type": "code",
      "execution_count": null,
      "metadata": {
        "colab": {
          "base_uri": "https://localhost:8080/",
          "height": 1212
        },
        "id": "7ryOiiAPBqCu",
        "outputId": "f207ff9a-1bc5-4dd0-9901-659bd97d22cc"
      },
      "outputs": [],
      "source": [
        "Train_df[list(No_variance_column)].sum()"
      ]
    },
    {
      "cell_type": "code",
      "execution_count": null,
      "metadata": {
        "colab": {
          "base_uri": "https://localhost:8080/",
          "height": 349
        },
        "id": "N2iszA1B7ENu",
        "outputId": "55d7c6ad-789b-4532-d1bf-43a7c2fd521f"
      },
      "outputs": [],
      "source": [
        "Train_df[list(Other_cols)].describe()"
      ]
    },
    {
      "cell_type": "code",
      "execution_count": null,
      "metadata": {
        "id": "rIJLh8MlABBI"
      },
      "outputs": [],
      "source": [
        "Valid_other_cols=set(Other_cols)-set(No_variance_column)"
      ]
    },
    {
      "cell_type": "code",
      "execution_count": null,
      "metadata": {
        "colab": {
          "base_uri": "https://localhost:8080/",
          "height": 0
        },
        "id": "CwZLhJKmCDMN",
        "outputId": "737aaff1-0b9c-4c00-cb3b-d6c60c6d4a45"
      },
      "outputs": [],
      "source": [
        "len(Valid_other_cols)"
      ]
    },
    {
      "cell_type": "code",
      "execution_count": null,
      "metadata": {
        "colab": {
          "base_uri": "https://localhost:8080/",
          "height": 143
        },
        "id": "8rRzk0D6CEfz",
        "outputId": "4f072c7d-2ed1-4bb3-9c5a-ab3f98b469fe"
      },
      "outputs": [],
      "source": [
        "Train_df[list(Valid_other_cols)].corr()"
      ]
    },
    {
      "cell_type": "code",
      "execution_count": null,
      "metadata": {
        "id": "bx5r6BiOCFeQ"
      },
      "outputs": [],
      "source": [
        "bool_corr=Train_df[list(Bool_cols)].corr()"
      ]
    },
    {
      "cell_type": "code",
      "execution_count": null,
      "metadata": {
        "colab": {
          "base_uri": "https://localhost:8080/",
          "height": 443
        },
        "id": "iVpAkPRj6vVZ",
        "outputId": "caae9454-3535-41ab-f4a6-eaa87bec2735"
      },
      "outputs": [],
      "source": [
        "bool_corr"
      ]
    },
    {
      "cell_type": "code",
      "execution_count": null,
      "metadata": {
        "id": "N3iDOK7fC_WY"
      },
      "outputs": [],
      "source": [
        "import pandas as pd\n",
        "\n",
        "def get_high_correlations(df, threshold=0.5):\n",
        "    corr = df.corr()\n",
        "\n",
        "    # Unstack and reset index\n",
        "    corr_pairs = corr.unstack().reset_index()\n",
        "    corr_pairs.columns = ['Feature1', 'Feature2', 'Correlation']\n",
        "\n",
        "    # Remove self-correlations\n",
        "    corr_pairs = corr_pairs[corr_pairs['Feature1'] != corr_pairs['Feature2']]\n",
        "\n",
        "    # Remove duplicate pairs (A-B and B-A)\n",
        "    corr_pairs['Sorted'] = corr_pairs.apply(lambda x: tuple(sorted([x['Feature1'], x['Feature2']])), axis=1)\n",
        "    corr_pairs = corr_pairs.drop_duplicates('Sorted').drop(columns='Sorted')\n",
        "\n",
        "    # Filter by threshold\n",
        "    filtered = corr_pairs[(corr_pairs['Correlation'] > threshold) | (corr_pairs['Correlation'] < threshold*-1)]\n",
        "\n",
        "    return filtered\n"
      ]
    },
    {
      "cell_type": "code",
      "execution_count": null,
      "metadata": {
        "id": "a1IAZ3TfD_yl"
      },
      "outputs": [],
      "source": [
        "bool_corr=get_high_correlations(df=Train_df[list(Bool_cols)], threshold=0.95)"
      ]
    },
    {
      "cell_type": "code",
      "execution_count": null,
      "metadata": {},
      "outputs": [],
      "source": [
        "bool_corr"
      ]
    },
    {
      "cell_type": "code",
      "execution_count": null,
      "metadata": {
        "id": "BQhRM8UnEJo7"
      },
      "outputs": [],
      "source": [
        "dict1={}\n",
        "related_feature=[]\n",
        "for i in list(bool_corr.query(\"Correlation== 1\").Feature1.unique()):\n",
        "  if i not in related_feature:\n",
        "    dict1[i]=list(bool_corr[bool_corr.Feature1==i].Feature2.unique())\n",
        "    related_feature.extend(list(bool_corr[bool_corr.Feature1==i].Feature2.unique()))\n"
      ]
    },
    {
      "cell_type": "code",
      "execution_count": null,
      "metadata": {
        "colab": {
          "base_uri": "https://localhost:8080/",
          "height": 0
        },
        "id": "cZOvut4tHrfO",
        "outputId": "63aa6e37-20be-4d48-ec26-43d52e8f457b"
      },
      "outputs": [],
      "source": [
        "len(dict1.keys())"
      ]
    },
    {
      "cell_type": "code",
      "execution_count": null,
      "metadata": {
        "colab": {
          "base_uri": "https://localhost:8080/",
          "height": 0
        },
        "id": "SQFz35-LIr4W",
        "outputId": "1bc720d7-91dc-466e-edd6-491ea52fe3b3"
      },
      "outputs": [],
      "source": [
        "len(dict1.keys())"
      ]
    },
    {
      "cell_type": "code",
      "execution_count": null,
      "metadata": {
        "colab": {
          "base_uri": "https://localhost:8080/",
          "height": 0
        },
        "id": "YXR2VuH8Hk3e",
        "outputId": "99f20c0f-f260-4d75-e5c7-c58dc6e35b83"
      },
      "outputs": [],
      "source": [
        "len(bool_corr.query(\"Correlation== 1\").Feature1.unique())-len(dict1.keys())"
      ]
    },
    {
      "cell_type": "code",
      "execution_count": null,
      "metadata": {
        "id": "yjPvVNVUNvcG"
      },
      "outputs": [],
      "source": [
        "Co_related_columns=list(set(bool_corr.query(\"Correlation== 1\").Feature1.unique())-set(dict1.keys()))"
      ]
    },
    {
      "cell_type": "code",
      "execution_count": null,
      "metadata": {
        "colab": {
          "base_uri": "https://localhost:8080/",
          "height": 0
        },
        "id": "QL5yTZVjJOVv",
        "outputId": "f394326e-ae31-4efa-a957-cdd3872ad285"
      },
      "outputs": [],
      "source": [
        "len(No_variance_column)"
      ]
    },
    {
      "cell_type": "code",
      "execution_count": null,
      "metadata": {
        "colab": {
          "base_uri": "https://localhost:8080/",
          "height": 0
        },
        "id": "uP3i-TkgN9FC",
        "outputId": "49b5e252-d4c6-4391-ac12-edf9dfbf4966"
      },
      "outputs": [],
      "source": [
        "len(Co_related_columns+list(No_variance_column))"
      ]
    },
    {
      "cell_type": "code",
      "execution_count": null,
      "metadata": {
        "id": "Ybci-84jNrLc"
      },
      "outputs": [],
      "source": [
        "No_variance_column,"
      ]
    },
    {
      "cell_type": "code",
      "execution_count": null,
      "metadata": {
        "colab": {
          "base_uri": "https://localhost:8080/",
          "height": 0
        },
        "id": "dpX93fwoJC1R",
        "outputId": "64f50141-d93a-4839-8f1b-80bd471626ab"
      },
      "outputs": [],
      "source": [
        "Train_df.shape[1]-553-1-36-3 # valid Bool Columns"
      ]
    },
    {
      "cell_type": "code",
      "execution_count": null,
      "metadata": {
        "colab": {
          "base_uri": "https://localhost:8080/",
          "height": 489
        },
        "id": "5q6gVafiJ0S9",
        "outputId": "1472f768-f73a-48ee-b71f-39ed3951762b"
      },
      "outputs": [],
      "source": [
        "Train_df[[\"Class\",\"feature_1\"]].value_counts()"
      ]
    },
    {
      "cell_type": "code",
      "execution_count": null,
      "metadata": {
        "colab": {
          "base_uri": "https://localhost:8080/",
          "height": 472
        },
        "id": "4cO0enAnLU6l",
        "outputId": "23a9b1d1-07ea-4a2a-ea88-88ba6e9ce1cf"
      },
      "outputs": [],
      "source": [
        "import seaborn as sns\n",
        "import matplotlib.pyplot as plt\n",
        "\n",
        "# Example: df['temperature'] is numeric, df['anomaly'] is 0 or 1\n",
        "sns.histplot(data=Train_df, x='feature_1', hue='Class', kde=True, stat='density', common_norm=False)\n",
        "\n",
        "plt.title(\"Class Distribution by Anomaly Status\")\n",
        "plt.xlabel(\"feature_1\")\n",
        "plt.ylabel(\"Density\")\n",
        "plt.legend(title='Class', labels=['Normal (0)', 'Anomaly (1)'])\n",
        "plt.show()"
      ]
    },
    {
      "cell_type": "code",
      "execution_count": null,
      "metadata": {
        "colab": {
          "base_uri": "https://localhost:8080/",
          "height": 594
        },
        "id": "1x-NUbOJEkAU",
        "outputId": "0754dd16-863c-43f7-8c8c-90a62ad19ad8"
      },
      "outputs": [],
      "source": [
        "# Example: 'temperature' is numeric, 'anomaly' is binary (0 or 1)\n",
        "sns.boxplot(data=Train_df, x='Class', y='feature_1', palette='Set2')\n",
        "\n",
        "plt.title(\"Class Distribution by Anomaly Status\")\n",
        "plt.ylabel(\"feature_1\")\n",
        "plt.xlabel(\"Class (0 = Normal, 1 = Anomaly)\")\n",
        "plt.grid(True, axis='y')\n",
        "plt.tight_layout()\n",
        "plt.show()\n"
      ]
    },
    {
      "cell_type": "code",
      "execution_count": null,
      "metadata": {
        "id": "9hmbx0bDM1Of"
      },
      "outputs": [],
      "source": [
        "# Feature Engineering (Remove or Modified Unwanted columns)"
      ]
    },
    {
      "cell_type": "code",
      "execution_count": null,
      "metadata": {
        "id": "tYL8b7CsHAMx"
      },
      "outputs": [],
      "source": [
        "Train_dataset=Train_df.drop(columns=Co_related_columns+list(No_variance_column))"
      ]
    },
    {
      "cell_type": "code",
      "execution_count": null,
      "metadata": {
        "id": "sSBH88MIOH_x"
      },
      "outputs": [],
      "source": [
        "X=Train_dataset.drop(columns=\"Class\")\n",
        "y=Train_dataset[\"Class\"]"
      ]
    },
    {
      "cell_type": "code",
      "execution_count": null,
      "metadata": {
        "id": "-7KiK3sIOMqF"
      },
      "outputs": [],
      "source": [
        "# Split manually, if not already split\n",
        "X_train, X_test, y_train, y_test = train_test_split(X, y, test_size=0.2, random_state=42,stratify=y)"
      ]
    },
    {
      "cell_type": "code",
      "execution_count": null,
      "metadata": {
        "colab": {
          "base_uri": "https://localhost:8080/",
          "height": 1084,
          "referenced_widgets": [
            "1692befaaf784333885810598f2f999c",
            "9cac34ab84ea47e79e8811908faa025f",
            "350c1bee1932484eb84040b443e69ccd",
            "632a7b3c6dff4b7d9fcfbb4275a17d07",
            "33041c0d222742cb8993266d874f254f",
            "895908ed30184dc18060cf877dc73b9f",
            "2828586b5a724fd4bd267224abae7a5c",
            "73433990714f4be2b753f039d647424e",
            "67c61cc103f84ab2bc31ad52febed307",
            "9e97505b33ad4cef8aee145d49962fec",
            "388776227c8a4b86857807164971a6e4"
          ]
        },
        "id": "WuIAIwb0TL2t",
        "outputId": "68910f06-468e-447b-c1cd-d762b932f21b"
      },
      "outputs": [],
      "source": [
        "clf = LazyClassifier(verbose=0, ignore_warnings=True, custom_metric=None)\n",
        "models, predictions = clf.fit(X_train, y_train, X_test, y_test)\n",
        "display(models)"
      ]
    },
    {
      "cell_type": "code",
      "execution_count": null,
      "metadata": {
        "id": "kJ55xLKdOvRF"
      },
      "outputs": [],
      "source": [
        "# prediction Model Fine tuning"
      ]
    },
    {
      "cell_type": "code",
      "execution_count": null,
      "metadata": {
        "id": "7-oFqn-hO5Np"
      },
      "outputs": [],
      "source": [
        "def lazy_classifier_metrics_from_split(\n",
        "    X_train, X_test, y_train, y_test, top_n=10, calculate_roc_auc=True\n",
        "):\n",
        "    \"\"\"\n",
        "    Evaluate top N LazyClassifier models with train/test metrics for binary classification.\n",
        "    Checks only for NaNs in predicted probabilities.\n",
        "    \"\"\"\n",
        "\n",
        "    clf = LazyClassifier(verbose=0, ignore_warnings=True, custom_metric=None)\n",
        "    models, predictions = clf.fit(X_train, X_test, y_train, y_test)\n",
        "\n",
        "    top_models = models.head(top_n)\n",
        "\n",
        "    metrics = []\n",
        "\n",
        "    for model_name in top_models.index:\n",
        "        model = clf.models[model_name]\n",
        "        model.fit(X_train, y_train)\n",
        "\n",
        "        y_train_pred = model.predict(X_train)\n",
        "        y_test_pred = model.predict(X_test)\n",
        "\n",
        "        if calculate_roc_auc:\n",
        "            try:\n",
        "                y_train_proba = model.predict_proba(X_train)[:, 1]\n",
        "                y_test_proba = model.predict_proba(X_test)[:, 1]\n",
        "\n",
        "                if pd.isna(y_train_proba).any() or pd.isna(y_test_proba).any():\n",
        "                    print(f\"Warning: NaNs detected in predicted probabilities for model {model_name}\")\n",
        "\n",
        "                train_roc = roc_auc_score(y_train, y_train_proba)\n",
        "                test_roc = roc_auc_score(y_test, y_test_proba)\n",
        "\n",
        "            except (AttributeError, NotImplementedError, ValueError) as e:\n",
        "                print(f\"Warning: Could not compute ROC AUC for model {model_name}: {e}\")\n",
        "                train_roc = None\n",
        "                test_roc = None\n",
        "        else:\n",
        "            train_roc = None\n",
        "            test_roc = None\n",
        "\n",
        "        metrics.append({\n",
        "            \"Model\": model_name,\n",
        "            \"Test Accuracy\": accuracy_score(y_test, y_test_pred),\n",
        "            \"Train Accuracy\": accuracy_score(y_train, y_train_pred),\n",
        "            \"Test F1 Score\": f1_score(y_test, y_test_pred, zero_division=0),\n",
        "            \"Train F1 Score\": f1_score(y_train, y_train_pred, zero_division=0),\n",
        "            \"Test Precision\": precision_score(y_test, y_test_pred, zero_division=0),\n",
        "            \"Train Precision\": precision_score(y_train, y_train_pred, zero_division=0),\n",
        "            \"Test Recall\": recall_score(y_test, y_test_pred, zero_division=0),\n",
        "            \"Train Recall\": recall_score(y_train, y_train_pred, zero_division=0),\n",
        "            \"Test ROC AUC\": test_roc,\n",
        "            \"Train ROC AUC\": train_roc\n",
        "        })\n",
        "\n",
        "    results_df = pd.DataFrame(metrics)[[\n",
        "        \"Model\",\n",
        "        \"Test Accuracy\", \"Train Accuracy\",\n",
        "        \"Test F1 Score\", \"Train F1 Score\",\n",
        "        \"Test Precision\", \"Train Precision\",\n",
        "        \"Test Recall\", \"Train Recall\",\n",
        "        \"Test ROC AUC\", \"Train ROC AUC\"\n",
        "    ]]\n",
        "\n",
        "    return results_df.round(4)"
      ]
    },
    {
      "cell_type": "code",
      "execution_count": null,
      "metadata": {},
      "outputs": [],
      "source": [
        "from sklearn.preprocessing import StandardScaler"
      ]
    },
    {
      "cell_type": "code",
      "execution_count": null,
      "metadata": {
        "id": "LWVbF8zpVfIi"
      },
      "outputs": [],
      "source": [
        "def lazy_classifier_metrics_from_split_standard_scaler(\n",
        "    X_train, X_test, y_train, y_test, top_n=10, calculate_roc_auc=True\n",
        "):\n",
        "    \"\"\"\n",
        "    Evaluate top N LazyClassifier models with train/test metrics for binary classification.\n",
        "    Checks only for NaNs in predicted probabilities.\n",
        "    \"\"\"\n",
        "    scaler = StandardScaler()\n",
        "\n",
        "    # Fit on train data only\n",
        "    X_train_scaled = scaler.fit_transform(X_train)\n",
        "\n",
        "    # Transform test data\n",
        "    X_test_scaled = scaler.transform(X_test)\n",
        "\n",
        "    clf = LazyClassifier(verbose=0, ignore_warnings=True, custom_metric=None)\n",
        "    models, predictions = clf.fit(X_train_scaled, X_test_scaled, y_train, y_test)\n",
        "\n",
        "    top_models = models.head(top_n)\n",
        "    display(top_models)\n",
        "\n",
        "    metrics = []\n",
        "\n",
        "    for model_name in top_models.index:\n",
        "        model = clf.models[model_name]\n",
        "        model.fit(X_train_scaled, y_train)\n",
        "\n",
        "        y_train_pred = model.predict(X_train_scaled)\n",
        "        y_test_pred = model.predict(X_test_scaled)\n",
        "\n",
        "        if calculate_roc_auc:\n",
        "            try:\n",
        "                y_train_proba = model.predict_proba(X_train_scaled)[:, 1]\n",
        "                y_test_proba = model.predict_proba(X_test_scaled)[:, 1]\n",
        "\n",
        "                if pd.isna(y_train_proba).any() or pd.isna(y_test_proba).any():\n",
        "                    print(f\"Warning: NaNs detected in predicted probabilities for model {model_name}\")\n",
        "\n",
        "                train_roc = roc_auc_score(y_train, y_train_proba)\n",
        "                test_roc = roc_auc_score(y_test, y_test_proba)\n",
        "\n",
        "            except (AttributeError, NotImplementedError, ValueError) as e:\n",
        "                print(f\"Warning: Could not compute ROC AUC for model {model_name}: {e}\")\n",
        "                train_roc = None\n",
        "                test_roc = None\n",
        "        else:\n",
        "            train_roc = None\n",
        "            test_roc = None\n",
        "\n",
        "        metrics.append({\n",
        "            \"Model\": model_name,\n",
        "            \"Test Accuracy\": accuracy_score(y_test, y_test_pred),\n",
        "            \"Train Accuracy\": accuracy_score(y_train, y_train_pred),\n",
        "            \"Test F1 Score\": f1_score(y_test, y_test_pred, zero_division=0),\n",
        "            \"Train F1 Score\": f1_score(y_train, y_train_pred, zero_division=0),\n",
        "            \"Test Precision\": precision_score(y_test, y_test_pred, zero_division=0),\n",
        "            \"Train Precision\": precision_score(y_train, y_train_pred, zero_division=0),\n",
        "            \"Test Recall\": recall_score(y_test, y_test_pred, zero_division=0),\n",
        "            \"Train Recall\": recall_score(y_train, y_train_pred, zero_division=0),\n",
        "            \"Test ROC AUC\": test_roc,\n",
        "            \"Train ROC AUC\": train_roc\n",
        "        })\n",
        "\n",
        "    results_df = pd.DataFrame(metrics)[[\n",
        "        \"Model\",\n",
        "        \"Test Accuracy\", \"Train Accuracy\",\n",
        "        \"Test F1 Score\", \"Train F1 Score\",\n",
        "        \"Test Precision\", \"Train Precision\",\n",
        "        \"Test Recall\", \"Train Recall\",\n",
        "        \"Test ROC AUC\", \"Train ROC AUC\"\n",
        "    ]]\n",
        "\n",
        "    return results_df.round(4)"
      ]
    },
    {
      "cell_type": "code",
      "execution_count": null,
      "metadata": {
        "colab": {
          "base_uri": "https://localhost:8080/",
          "height": 0
        },
        "id": "MbpMhYKlQe2A",
        "outputId": "e3eb7a2d-ebad-4019-e2b3-7f7d0ff33728"
      },
      "outputs": [],
      "source": [
        "X_train.isna().sum().sum(),X_test.isna().sum().sum(),y_train.isna().sum().sum(),y_test.isna().sum().sum()"
      ]
    },
    {
      "cell_type": "code",
      "execution_count": null,
      "metadata": {
        "id": "JKwLoJZDVSe-"
      },
      "outputs": [],
      "source": [
        "from sklearn.preprocessing import StandardScaler\n",
        "\n",
        "\n"
      ]
    },
    {
      "cell_type": "code",
      "execution_count": null,
      "metadata": {
        "colab": {
          "base_uri": "https://localhost:8080/",
          "height": 568,
          "referenced_widgets": [
            "ba2948b8f6a84ae493f2fdc3c03962b3",
            "5256b7a3ae9945f1ad8767ea88349654",
            "47d559f38a174c83afebc518e0eae7fb",
            "5cdf7860a8134fea9bcb3dfd24c83582",
            "e4ec83b2d1bc4321842af5b7c1a083f5",
            "af8b914adb3e4989a860e8a64a4f4b85",
            "38a1c244deb24fe78870328323049267",
            "7c6d5bf5ccd448b3928e5020c43d5cf2",
            "c0ff7c8fa4cb4f2e83dd7c41e01ca5ee",
            "239c27e0b59e497f84292aadf29fc72b",
            "3cc6a88d5dab454f8617563b2ddedfdc"
          ]
        },
        "id": "uHx6k8L0Odl9",
        "outputId": "2821b8d8-1072-4010-e773-4e5cd8b23274"
      },
      "outputs": [],
      "source": [
        "# Get metrics\n",
        "metrics_df_normal = lazy_classifier_metrics_from_split(X_train, X_test, y_train, y_test)\n",
        "display(metrics_df_normal)\n",
        "\n"
      ]
    },
    {
      "cell_type": "code",
      "execution_count": null,
      "metadata": {
        "id": "gceQiSVJPnVB"
      },
      "outputs": [],
      "source": [
        "from imblearn.over_sampling import SMOTE\n",
        "from imblearn.under_sampling import RandomUnderSampler\n",
        "from imblearn.pipeline import Pipeline\n"
      ]
    },
    {
      "cell_type": "code",
      "execution_count": null,
      "metadata": {
        "id": "U7fyyUBtSXXB"
      },
      "outputs": [],
      "source": [
        "# Oversampling with SMOTE\n",
        "smote = SMOTE(random_state=42)\n",
        "X_train_smote, y_train_smote = smote.fit_resample(X_train, y_train)\n",
        "\n",
        "# Undersampling with RandomUnderSampler\n",
        "under = RandomUnderSampler(random_state=42)\n",
        "X_train_under, y_train_under = under.fit_resample(X_train, y_train)\n"
      ]
    },
    {
      "cell_type": "code",
      "execution_count": null,
      "metadata": {
        "id": "VGTQO0-wUjx8"
      },
      "outputs": [],
      "source": []
    },
    {
      "cell_type": "code",
      "execution_count": null,
      "metadata": {
        "colab": {
          "base_uri": "https://localhost:8080/",
          "height": 672,
          "referenced_widgets": [
            "9e450c2222ee4bc2b7506f0cba5cb39e",
            "bcc22511e8df4ca4af7b8826c1dad6aa",
            "9fef5265b1c245ac88be9840f51bba22",
            "98659e7edc2a4a00b01f7aca3399b106",
            "54de41b08f6c40f48ab26a0571143bf6",
            "bfa93bab9d194b01a0d8ac46771f211e",
            "5ae27c9975844ce49e848068aba6e07f",
            "94f2d69df8cd4a0db12252a0de156a90",
            "187558e16fb54e3caa962d9e730b782d",
            "d83af5f0014544468f662f7407419c92",
            "e528b60f55f040f0bf50657d5a3c4e55"
          ]
        },
        "id": "gMNgRXJHSewh",
        "outputId": "bacea949-87f0-4b2f-e6b8-729412e9add6"
      },
      "outputs": [],
      "source": [
        "\n",
        "# Run LazyPredict on SMOTE oversampled data\n",
        "print(\"=== LazyClassifier with SMOTE (Oversampling) ===\")\n",
        "# Get metrics\n",
        "metrics_df_smote = lazy_classifier_metrics_from_split(X_train_smote, X_test, y_train_smote, y_test)\n",
        "display(metrics_df_smote)\n",
        "\n"
      ]
    },
    {
      "cell_type": "code",
      "execution_count": null,
      "metadata": {
        "colab": {
          "base_uri": "https://localhost:8080/",
          "height": 4177,
          "referenced_widgets": [
            "e84789d1fc4949d48493a2db729a856f",
            "a0828a4061714ae98a9b25957e3180ac",
            "ee1a2bbe68e946768642453af5ac5c2d",
            "5e2718784e904faeb472e956ce15f6cc",
            "9c3e6d7b7f00432f8c1c24aebb2a8191",
            "ebf11a59be124789b6cf2ed5c8e18eb7",
            "4ff54de1a01648a7a815e812d1cf4cd1",
            "9348d4df812140f7853e43a9921203ca",
            "8f6d3e76560546faa385f649d22bf6e6",
            "955ff5e9d0a4452cb44ea29b3ccb8480",
            "6af5807bca584157b73ec6ccff41cb33"
          ]
        },
        "collapsed": true,
        "id": "XaFc7zQHSgCH",
        "outputId": "f80ab8aa-7c8b-4909-cbf2-99ba1594218e"
      },
      "outputs": [],
      "source": [
        "\n",
        "# Run LazyPredict on Undersampled data\n",
        "print(\"\\n=== LazyClassifier with RandomUnderSampler ===\")\n",
        "metrics_df_under = lazy_classifier_metrics_from_split(X_train_under, X_test, y_train_under, y_test)\n",
        "display(metrics_df_under)\n",
        "\n"
      ]
    },
    {
      "cell_type": "code",
      "execution_count": null,
      "metadata": {
        "colab": {
          "base_uri": "https://localhost:8080/",
          "height": 945,
          "referenced_widgets": [
            "fdf87e86b7f94a2fbf14d4f84314cab3",
            "b833c1dab8b74a7a867a7cbfdab83793",
            "27994f49e50b49b4ace221e04e9e136f",
            "5a6bfea63d284940a84b3ef29e941c14",
            "ac63f0f597e44ae3b25e8042764cdf45",
            "c98e78e292b04805bda513f488c6d1e9",
            "61fea2b5bcd04926989981db58e9371f",
            "d5d0b6e665fd4308aa767a772c2ddc35",
            "5e8b1d66141f4f55a688e151632ea6c7",
            "3e9a490a3cb2467698d7f1dd3f845f56",
            "436d5feae5a6458898fd7ded1ac8af49"
          ]
        },
        "id": "yYvcq_yqV2bJ",
        "outputId": "5572fb5b-136e-4ae9-d780-560c6570e1db"
      },
      "outputs": [],
      "source": [
        "# Get metrics\n",
        "metrics_df_normal_scaled = lazy_classifier_metrics_from_split_standard_scaler(X_train, X_test, y_train, y_test)\n",
        "display(metrics_df_normal_scaled)\n",
        "\n"
      ]
    },
    {
      "cell_type": "code",
      "execution_count": null,
      "metadata": {
        "colab": {
          "base_uri": "https://localhost:8080/",
          "height": 1049,
          "referenced_widgets": [
            "54e97145983046eabbc77bcbe6f845b4",
            "5878eb42798d4cfebeae1b84886a786c",
            "8de1ca2f263c4288999375168085d214",
            "3baf000a199041808e042ba48d05b2ca",
            "f5a185ab10b74302b6054471c0110308",
            "ec4c86d05b6c4b60bc77945286dc1367",
            "ce5c918c87bd4a9089a797c62b62c2b7",
            "d07fbf1c8703440fb5ec3d444a773fca",
            "1172247f63dd4e1b982c1782a204a3ea",
            "22b8945c63354e71bce0cd3e37b830b7",
            "be2b37e0a0fd454293a3fdc4dea59f70"
          ]
        },
        "id": "-RlHuFMtV2oO",
        "outputId": "474cae89-fbee-4390-ffaa-57db00e46a61"
      },
      "outputs": [],
      "source": [
        "\n",
        "# Run LazyPredict on SMOTE oversampled data\n",
        "print(\"=== LazyClassifier with SMOTE Scaled (Oversampling) ===\")\n",
        "# Get metrics\n",
        "metrics_df_smote_scaled = lazy_classifier_metrics_from_split_standard_scaler(X_train_smote, X_test, y_train_smote, y_test)\n",
        "display(metrics_df_smote_scaled)\n",
        "\n"
      ]
    },
    {
      "cell_type": "code",
      "execution_count": null,
      "metadata": {
        "colab": {
          "base_uri": "https://localhost:8080/",
          "height": 4554,
          "referenced_widgets": [
            "dc381344b8464a3e9d037ce34acf8955",
            "f245547a0b4f487db945959e741c2865",
            "f802a7119f544d43866caed95c167ac0",
            "d431594b0634450ebfb7eddf7b80ca56",
            "90b1104adc754e9b846774fadd641aaf",
            "020220304f114b4185a98d53211ec169",
            "effbf657b47c481d96444841fed8f39e",
            "edb6593ff61b4cb2973164b68aae9e93",
            "40f37c4834304452954eaacfcb92f540",
            "f286dd640a2b4fce9d3f5bb54ce2f84e",
            "da5b20c5022246e0b29292e4252e55d3"
          ]
        },
        "id": "EUyllB25YI8r",
        "outputId": "b6bce593-b783-4ac6-ab34-e34a5d8d683d"
      },
      "outputs": [],
      "source": [
        "\n",
        "# Run LazyPredict on Undersampled data\n",
        "print(\"\\n=== LazyClassifier with Scaled RandomUnderSampler ===\")\n",
        "metrics_df_under_scaled = lazy_classifier_metrics_from_split_standard_scaler(X_train_under, X_test, y_train_under, y_test)\n",
        "display(metrics_df_under_scaled)\n",
        "\n"
      ]
    },
    {
      "cell_type": "code",
      "execution_count": null,
      "metadata": {
        "id": "-S7_GPYTf1Py"
      },
      "outputs": [],
      "source": [
        "def tune_adaboost(X, y, cv=5):\n",
        "    def objective(trial):\n",
        "        params = {\n",
        "            \"n_estimators\": trial.suggest_int(\"n_estimators\", 50, 300),\n",
        "            \"learning_rate\": trial.suggest_float(\"learning_rate\", 0.01, 1.0),\n",
        "        }\n",
        "        model = AdaBoostClassifier(**params)\n",
        "        return cross_val_score(model, X, y, cv=cv, scoring='accuracy').mean()\n",
        "\n",
        "    study = optuna.create_study(direction='maximize')\n",
        "    study.optimize(objective, n_trials=20)\n",
        "    return AdaBoostClassifier(**study.best_params)\n",
        "\n",
        "def tune_bernoulli_nb(X, y, cv=5):\n",
        "    def objective(trial):\n",
        "        params = {\n",
        "            \"alpha\": trial.suggest_float(\"alpha\", 0.0, 1.0),\n",
        "            \"binarize\": trial.suggest_float(\"binarize\", 0.0, 1.0)\n",
        "        }\n",
        "        model = BernoulliNB(**params)\n",
        "        return cross_val_score(model, X, y, cv=cv, scoring='accuracy').mean()\n",
        "\n",
        "    study = optuna.create_study(direction='maximize')\n",
        "    study.optimize(objective, n_trials=20)\n",
        "    return BernoulliNB(**study.best_params)\n",
        "\n",
        "def tune_xgb(X, y, cv=5):\n",
        "    def objective(trial):\n",
        "        params = {\n",
        "            \"n_estimators\": trial.suggest_int(\"n_estimators\", 50, 300),\n",
        "            \"max_depth\": trial.suggest_int(\"max_depth\", 2, 10),\n",
        "            \"learning_rate\": trial.suggest_float(\"learning_rate\", 0.01, 0.3),\n",
        "            \"subsample\": trial.suggest_float(\"subsample\", 0.5, 1.0)\n",
        "        }\n",
        "        model = XGBClassifier(use_label_encoder=False, eval_metric=\"logloss\", **params)\n",
        "        return cross_val_score(model, X, y, cv=cv, scoring='accuracy').mean()\n",
        "\n",
        "    study = optuna.create_study(direction='maximize')\n",
        "    study.optimize(objective, n_trials=20)\n",
        "    return XGBClassifier(use_label_encoder=False, eval_metric=\"logloss\", **study.best_params)\n",
        "\n",
        "def tune_nearest_centroid(X, y, cv=5):\n",
        "    def objective(trial):\n",
        "        params = {\n",
        "            \"metric\": trial.suggest_categorical(\"metric\", [\"euclidean\", \"manhattan\"]),\n",
        "        }\n",
        "        model = NearestCentroid(**params)\n",
        "        return cross_val_score(model, X, y, cv=cv, scoring='accuracy').mean()\n",
        "\n",
        "    study = optuna.create_study(direction='maximize')\n",
        "    study.optimize(objective, n_trials=10)\n",
        "    return NearestCentroid(**study.best_params)\n",
        "\n",
        "\n",
        "def tune_random_forest(X, y, cv=5, n_trials=20):\n",
        "    def objective(trial):\n",
        "        params = {\n",
        "            \"n_estimators\": trial.suggest_int(\"n_estimators\", 100, 500),\n",
        "            \"max_depth\": trial.suggest_int(\"max_depth\", 2, 30),\n",
        "            \"min_samples_split\": trial.suggest_int(\"min_samples_split\", 2, 20),\n",
        "            \"min_samples_leaf\": trial.suggest_int(\"min_samples_leaf\", 1, 20),\n",
        "            \"max_features\": trial.suggest_categorical(\"max_features\", [\"sqrt\", \"log2\", None]),\n",
        "            \"bootstrap\": trial.suggest_categorical(\"bootstrap\", [True, False]),\n",
        "        }\n",
        "\n",
        "        model = RandomForestClassifier(**params, random_state=42)\n",
        "        score = cross_val_score(model, X, y, cv=cv, scoring=\"accuracy\").mean()\n",
        "        return score\n",
        "\n",
        "    study = optuna.create_study(direction=\"maximize\")\n",
        "    study.optimize(objective, n_trials=n_trials)\n",
        "    return RandomForestClassifier(**study.best_params, random_state=42)\n"
      ]
    },
    {
      "cell_type": "code",
      "execution_count": null,
      "metadata": {
        "id": "hQTNEMi3f1UZ"
      },
      "outputs": [],
      "source": [
        "def evaluate_model(model, X_train, y_train, X_test, y_test, model_name=\"Model\"):\n",
        "    model.fit(X_train, y_train)\n",
        "\n",
        "    y_pred_train = model.predict(X_train)\n",
        "    y_pred_test = model.predict(X_test)\n",
        "\n",
        "    print(f\"\\n--- {model_name} TRAIN ---\")\n",
        "    print(confusion_matrix(y_train, y_pred_train))\n",
        "    print(classification_report(y_train, y_pred_train))\n",
        "\n",
        "    print(f\"\\n--- {model_name} TEST ---\")\n",
        "    print(confusion_matrix(y_test, y_pred_test))\n",
        "    print(classification_report(y_test, y_pred_test))\n"
      ]
    },
    {
      "cell_type": "code",
      "execution_count": null,
      "metadata": {
        "colab": {
          "base_uri": "https://localhost:8080/",
          "height": 0
        },
        "id": "RAIMwnXGgCzT",
        "outputId": "3fc11f12-93ba-400c-8d30-bf331eed9309"
      },
      "outputs": [],
      "source": [
        "# AdaBoost\n",
        "ada_model = tune_adaboost(X_train, y_train)\n",
        "evaluate_model(ada_model, X_train, y_train, X_test, y_test, \"AdaBoost\")"
      ]
    },
    {
      "cell_type": "code",
      "execution_count": null,
      "metadata": {
        "colab": {
          "base_uri": "https://localhost:8080/",
          "height": 0
        },
        "id": "uxLrxR5bjdLk",
        "outputId": "80bd5d8f-7b77-4898-8215-bbef82ae3ddd"
      },
      "outputs": [],
      "source": [
        "# AdaBoost\n",
        "ada_model = tune_adaboost(X_train_smote, y_train_smote)\n",
        "evaluate_model(ada_model, X_train_smote, y_train_smote, X_test, y_test, \"AdaBoost\")"
      ]
    },
    {
      "cell_type": "code",
      "execution_count": null,
      "metadata": {
        "colab": {
          "base_uri": "https://localhost:8080/",
          "height": 0
        },
        "id": "-7oc8Jg1lSJB",
        "outputId": "72fd18c4-fa67-40da-fa32-55320e2d43dc"
      },
      "outputs": [],
      "source": [
        "# AdaBoost\n",
        "ada_model = tune_adaboost(X_train_under, y_train_under)\n",
        "evaluate_model(ada_model, X_train_under, y_train_under, X_test, y_test, \"AdaBoost\")"
      ]
    },
    {
      "cell_type": "code",
      "execution_count": null,
      "metadata": {
        "colab": {
          "base_uri": "https://localhost:8080/",
          "height": 0
        },
        "id": "-K2vsYxdl-5P",
        "outputId": "5dab8391-5f57-4e39-8438-28f9c5471c9f"
      },
      "outputs": [],
      "source": [
        "\n",
        "\n",
        "# BernoulliNB\n",
        "bnb_model = tune_bernoulli_nb(X_train, y_train)\n",
        "evaluate_model(bnb_model, X_train, y_train, X_test, y_test, \"BernoulliNB\")\n"
      ]
    },
    {
      "cell_type": "code",
      "execution_count": null,
      "metadata": {
        "colab": {
          "base_uri": "https://localhost:8080/",
          "height": 0
        },
        "id": "3AYMpkY2mAb6",
        "outputId": "72232ad5-fc6f-46f8-961d-487d07722cc4"
      },
      "outputs": [],
      "source": [
        "\n",
        "\n",
        "# BernoulliNB\n",
        "bnb_model = tune_bernoulli_nb(X_train_smote, y_train_smote)\n",
        "evaluate_model(bnb_model, X_train_smote, y_train_smote, X_test, y_test, \"BernoulliNB\")\n"
      ]
    },
    {
      "cell_type": "code",
      "execution_count": null,
      "metadata": {
        "colab": {
          "base_uri": "https://localhost:8080/",
          "height": 0
        },
        "id": "T-8bWEP2mYQL",
        "outputId": "50456966-bf26-4aee-8d61-8463ae058312"
      },
      "outputs": [],
      "source": [
        "\n",
        "\n",
        "# BernoulliNB\n",
        "bnb_model = tune_bernoulli_nb(X_train_under, y_train_under)\n",
        "evaluate_model(bnb_model, X_train_under, y_train_under, X_test, y_test, \"BernoulliNB\")\n"
      ]
    },
    {
      "cell_type": "code",
      "execution_count": null,
      "metadata": {
        "colab": {
          "base_uri": "https://localhost:8080/",
          "height": 0
        },
        "id": "og_ONwINrVOZ",
        "outputId": "9dbebf67-9ba9-4cdd-80d5-6b6098621c2b"
      },
      "outputs": [],
      "source": [
        "\n",
        "\n",
        "# XGBoost\n",
        "xgb_model = tune_xgb(X_train, y_train)\n",
        "evaluate_model(xgb_model, X_train, y_train, X_test, y_test, \"XGBoost\")"
      ]
    },
    {
      "cell_type": "code",
      "execution_count": null,
      "metadata": {
        "colab": {
          "base_uri": "https://localhost:8080/",
          "height": 0
        },
        "id": "0cBSfCMEsO_3",
        "outputId": "7dce710f-24ed-4082-9c34-522de7daee5d"
      },
      "outputs": [],
      "source": [
        "\n",
        "\n",
        "# XGBoost\n",
        "xgb_model = tune_xgb(X_train_smote, y_train_smote)\n",
        "evaluate_model(xgb_model, X_train_smote, y_train_smote, X_test, y_test, \"XGBoost\")"
      ]
    },
    {
      "cell_type": "code",
      "execution_count": null,
      "metadata": {
        "colab": {
          "base_uri": "https://localhost:8080/",
          "height": 0
        },
        "id": "u5iP-TrKthmG",
        "outputId": "71868a40-104c-407f-e669-f4acbe5d9997"
      },
      "outputs": [],
      "source": [
        "\n",
        "\n",
        "# XGBoost\n",
        "xgb_model = tune_xgb(X_train_under, y_train_under)\n",
        "evaluate_model(xgb_model, X_train_under, y_train_under, X_test, y_test, \"XGBoost\")"
      ]
    },
    {
      "cell_type": "code",
      "execution_count": null,
      "metadata": {
        "colab": {
          "base_uri": "https://localhost:8080/",
          "height": 0
        },
        "id": "G3_yq1_2f1YA",
        "outputId": "b39aa05e-13c6-474e-f5a7-399c2f21b30e"
      },
      "outputs": [],
      "source": [
        "\n",
        "\n",
        "# Nearest Centroid\n",
        "nc_model = tune_nearest_centroid(X_train, y_train)\n",
        "evaluate_model(nc_model, X_train, y_train, X_test, y_test, \"NearestCentroid\")\n"
      ]
    },
    {
      "cell_type": "code",
      "execution_count": null,
      "metadata": {
        "colab": {
          "base_uri": "https://localhost:8080/",
          "height": 0
        },
        "id": "A42ySHKYf1bD",
        "outputId": "d7345241-2fd4-4a9a-8335-cd8edc3a0137"
      },
      "outputs": [],
      "source": [
        "\n",
        "\n",
        "# Nearest Centroid\n",
        "nc_model = tune_nearest_centroid(X_train_smote, y_train_smote)\n",
        "evaluate_model(nc_model, X_train_smote, y_train_smote, X_test, y_test, \"NearestCentroid\")\n"
      ]
    },
    {
      "cell_type": "code",
      "execution_count": null,
      "metadata": {
        "colab": {
          "base_uri": "https://localhost:8080/",
          "height": 0
        },
        "id": "eNEX6W-vagJZ",
        "outputId": "d70dc1c7-100a-4951-b26b-d1d956d56f84"
      },
      "outputs": [],
      "source": [
        "\n",
        "\n",
        "# Nearest Centroid\n",
        "nc_model = tune_nearest_centroid(X_train_under, y_train_under)\n",
        "evaluate_model(nc_model, X_train_under, y_train_under, X_test, y_test, \"NearestCentroid\")\n"
      ]
    },
    {
      "cell_type": "code",
      "execution_count": null,
      "metadata": {
        "colab": {
          "base_uri": "https://localhost:8080/",
          "height": 0
        },
        "id": "V8dpyBYzyzZJ",
        "outputId": "a3e46912-48ad-42c8-e88d-b7b0d935f4c0"
      },
      "outputs": [],
      "source": [
        "rf_model = tune_random_forest(X_train, y_train)\n",
        "evaluate_model(rf_model, X_train, y_train, X_test, y_test, \"Random Forest\")\n"
      ]
    },
    {
      "cell_type": "code",
      "execution_count": null,
      "metadata": {
        "colab": {
          "base_uri": "https://localhost:8080/",
          "height": 0
        },
        "id": "eVz0maj9z6oY",
        "outputId": "cb0a90d6-9d0d-404f-b1f2-cebbccbfed34"
      },
      "outputs": [],
      "source": [
        "rf_model = tune_random_forest(X_train_smote, y_train_smote)\n",
        "evaluate_model(rf_model, X_train_smote, y_train_smote, X_test, y_test, \"Random Forest\")\n"
      ]
    },
    {
      "cell_type": "code",
      "execution_count": null,
      "metadata": {
        "colab": {
          "base_uri": "https://localhost:8080/",
          "height": 0
        },
        "id": "qpRe3NDk2M-D",
        "outputId": "b78f3d14-7c91-4e29-9d16-d798ec5126ef"
      },
      "outputs": [],
      "source": [
        "rf_model = tune_random_forest(X_train_under, y_train_under)\n",
        "evaluate_model(rf_model, X_train_under, y_train_under, X_test, y_test, \"Random Forest\")\n"
      ]
    },
    {
      "cell_type": "code",
      "execution_count": null,
      "metadata": {
        "colab": {
          "base_uri": "https://localhost:8080/"
        },
        "id": "a8t_aKwW2RxW",
        "outputId": "764922c9-4329-4489-b642-bb37bbf0772e"
      },
      "outputs": [],
      "source": [
        "\n",
        "\n",
        "# Nearest Centroid\n",
        "nc_model = tune_nearest_centroid(X_train_smote, y_train_smote)\n",
        "evaluate_model(nc_model, X_train_smote, y_train_smote, X_test, y_test, \"NearestCentroid\")\n"
      ]
    },
    {
      "cell_type": "code",
      "execution_count": null,
      "metadata": {
        "id": "fKyaiQxUCO1V"
      },
      "outputs": [],
      "source": []
    },
    {
      "cell_type": "code",
      "execution_count": null,
      "metadata": {
        "id": "SkdIG8o7_jFa"
      },
      "outputs": [],
      "source": [
        "# Get the centroids\n",
        "centroids = nc_model.centroids_\n",
        "\n",
        "# Calculate mean absolute difference between centroids across classes for each feature\n",
        "importance = np.mean(np.abs(np.diff(centroids, axis=0)), axis=0)\n",
        "\n",
        "# Display with feature names\n",
        "import pandas as pd\n",
        "feature_importance = pd.Series(importance, index=X_train.columns).sort_values(ascending=False)\n"
      ]
    },
    {
      "cell_type": "code",
      "execution_count": null,
      "metadata": {
        "colab": {
          "base_uri": "https://localhost:8080/"
        },
        "id": "7pjgs5FZ_pet",
        "outputId": "6bc27263-0b04-43e0-d049-cddc213005d5"
      },
      "outputs": [],
      "source": [
        "# Top 10 features\n",
        "print(feature_importance[:10])"
      ]
    },
    {
      "cell_type": "code",
      "execution_count": null,
      "metadata": {
        "id": "HZOkSIwC_3VW"
      },
      "outputs": [],
      "source": [
        "Y_test=nc_model.predict(Test_df[list(X_train_smote.columns.to_list())])"
      ]
    },
    {
      "cell_type": "code",
      "execution_count": null,
      "metadata": {
        "colab": {
          "base_uri": "https://localhost:8080/",
          "height": 147
        },
        "id": "NaFE2l7UHJGL",
        "outputId": "4c1c2baf-37ca-4149-c6e2-2334503f2ce4"
      },
      "outputs": [],
      "source": [
        "sample_df.value_counts()"
      ]
    },
    {
      "cell_type": "code",
      "execution_count": null,
      "metadata": {
        "id": "Bq9UOUkYH9Zn"
      },
      "outputs": [],
      "source": [
        "sample_df[\"Class\"]=Y_test"
      ]
    },
    {
      "cell_type": "code",
      "execution_count": null,
      "metadata": {
        "colab": {
          "base_uri": "https://localhost:8080/",
          "height": 178
        },
        "id": "gdVBbj3VIE5E",
        "outputId": "c3f412fc-250e-4dfd-f6b3-2992b5efaa0a"
      },
      "outputs": [],
      "source": [
        "sample_df.value_counts()"
      ]
    },
    {
      "cell_type": "code",
      "execution_count": null,
      "metadata": {
        "id": "EaYPsVA_IG11"
      },
      "outputs": [],
      "source": [
        "sample_df.to_csv(\"D:/DA-EBPL/submission.csv\",index=False)"
      ]
    },
    {
      "cell_type": "code",
      "execution_count": null,
      "metadata": {
        "id": "PZTXtqDzISmJ"
      },
      "outputs": [],
      "source": []
    }
  ],
  "metadata": {
    "colab": {
      "provenance": []
    },
    "kernelspec": {
      "display_name": "Python 3",
      "name": "python3"
    },
    "language_info": {
      "codemirror_mode": {
        "name": "ipython",
        "version": 3
      },
      "file_extension": ".py",
      "mimetype": "text/x-python",
      "name": "python",
      "nbconvert_exporter": "python",
      "pygments_lexer": "ipython3",
      "version": "3.13.5"
    },
    "widgets": {
      "application/vnd.jupyter.widget-state+json": {
        "020220304f114b4185a98d53211ec169": {
          "model_module": "@jupyter-widgets/base",
          "model_module_version": "1.2.0",
          "model_name": "LayoutModel",
          "state": {
            "_model_module": "@jupyter-widgets/base",
            "_model_module_version": "1.2.0",
            "_model_name": "LayoutModel",
            "_view_count": null,
            "_view_module": "@jupyter-widgets/base",
            "_view_module_version": "1.2.0",
            "_view_name": "LayoutView",
            "align_content": null,
            "align_items": null,
            "align_self": null,
            "border": null,
            "bottom": null,
            "display": null,
            "flex": null,
            "flex_flow": null,
            "grid_area": null,
            "grid_auto_columns": null,
            "grid_auto_flow": null,
            "grid_auto_rows": null,
            "grid_column": null,
            "grid_gap": null,
            "grid_row": null,
            "grid_template_areas": null,
            "grid_template_columns": null,
            "grid_template_rows": null,
            "height": null,
            "justify_content": null,
            "justify_items": null,
            "left": null,
            "margin": null,
            "max_height": null,
            "max_width": null,
            "min_height": null,
            "min_width": null,
            "object_fit": null,
            "object_position": null,
            "order": null,
            "overflow": null,
            "overflow_x": null,
            "overflow_y": null,
            "padding": null,
            "right": null,
            "top": null,
            "visibility": null,
            "width": null
          }
        },
        "1172247f63dd4e1b982c1782a204a3ea": {
          "model_module": "@jupyter-widgets/controls",
          "model_module_version": "1.5.0",
          "model_name": "ProgressStyleModel",
          "state": {
            "_model_module": "@jupyter-widgets/controls",
            "_model_module_version": "1.5.0",
            "_model_name": "ProgressStyleModel",
            "_view_count": null,
            "_view_module": "@jupyter-widgets/base",
            "_view_module_version": "1.2.0",
            "_view_name": "StyleView",
            "bar_color": null,
            "description_width": ""
          }
        },
        "1692befaaf784333885810598f2f999c": {
          "model_module": "@jupyter-widgets/controls",
          "model_module_version": "1.5.0",
          "model_name": "HBoxModel",
          "state": {
            "_dom_classes": [],
            "_model_module": "@jupyter-widgets/controls",
            "_model_module_version": "1.5.0",
            "_model_name": "HBoxModel",
            "_view_count": null,
            "_view_module": "@jupyter-widgets/controls",
            "_view_module_version": "1.5.0",
            "_view_name": "HBoxView",
            "box_style": "",
            "children": [
              "IPY_MODEL_9cac34ab84ea47e79e8811908faa025f",
              "IPY_MODEL_350c1bee1932484eb84040b443e69ccd",
              "IPY_MODEL_632a7b3c6dff4b7d9fcfbb4275a17d07"
            ],
            "layout": "IPY_MODEL_33041c0d222742cb8993266d874f254f"
          }
        },
        "187558e16fb54e3caa962d9e730b782d": {
          "model_module": "@jupyter-widgets/controls",
          "model_module_version": "1.5.0",
          "model_name": "ProgressStyleModel",
          "state": {
            "_model_module": "@jupyter-widgets/controls",
            "_model_module_version": "1.5.0",
            "_model_name": "ProgressStyleModel",
            "_view_count": null,
            "_view_module": "@jupyter-widgets/base",
            "_view_module_version": "1.2.0",
            "_view_name": "StyleView",
            "bar_color": null,
            "description_width": ""
          }
        },
        "22b8945c63354e71bce0cd3e37b830b7": {
          "model_module": "@jupyter-widgets/base",
          "model_module_version": "1.2.0",
          "model_name": "LayoutModel",
          "state": {
            "_model_module": "@jupyter-widgets/base",
            "_model_module_version": "1.2.0",
            "_model_name": "LayoutModel",
            "_view_count": null,
            "_view_module": "@jupyter-widgets/base",
            "_view_module_version": "1.2.0",
            "_view_name": "LayoutView",
            "align_content": null,
            "align_items": null,
            "align_self": null,
            "border": null,
            "bottom": null,
            "display": null,
            "flex": null,
            "flex_flow": null,
            "grid_area": null,
            "grid_auto_columns": null,
            "grid_auto_flow": null,
            "grid_auto_rows": null,
            "grid_column": null,
            "grid_gap": null,
            "grid_row": null,
            "grid_template_areas": null,
            "grid_template_columns": null,
            "grid_template_rows": null,
            "height": null,
            "justify_content": null,
            "justify_items": null,
            "left": null,
            "margin": null,
            "max_height": null,
            "max_width": null,
            "min_height": null,
            "min_width": null,
            "object_fit": null,
            "object_position": null,
            "order": null,
            "overflow": null,
            "overflow_x": null,
            "overflow_y": null,
            "padding": null,
            "right": null,
            "top": null,
            "visibility": null,
            "width": null
          }
        },
        "239c27e0b59e497f84292aadf29fc72b": {
          "model_module": "@jupyter-widgets/base",
          "model_module_version": "1.2.0",
          "model_name": "LayoutModel",
          "state": {
            "_model_module": "@jupyter-widgets/base",
            "_model_module_version": "1.2.0",
            "_model_name": "LayoutModel",
            "_view_count": null,
            "_view_module": "@jupyter-widgets/base",
            "_view_module_version": "1.2.0",
            "_view_name": "LayoutView",
            "align_content": null,
            "align_items": null,
            "align_self": null,
            "border": null,
            "bottom": null,
            "display": null,
            "flex": null,
            "flex_flow": null,
            "grid_area": null,
            "grid_auto_columns": null,
            "grid_auto_flow": null,
            "grid_auto_rows": null,
            "grid_column": null,
            "grid_gap": null,
            "grid_row": null,
            "grid_template_areas": null,
            "grid_template_columns": null,
            "grid_template_rows": null,
            "height": null,
            "justify_content": null,
            "justify_items": null,
            "left": null,
            "margin": null,
            "max_height": null,
            "max_width": null,
            "min_height": null,
            "min_width": null,
            "object_fit": null,
            "object_position": null,
            "order": null,
            "overflow": null,
            "overflow_x": null,
            "overflow_y": null,
            "padding": null,
            "right": null,
            "top": null,
            "visibility": null,
            "width": null
          }
        },
        "27994f49e50b49b4ace221e04e9e136f": {
          "model_module": "@jupyter-widgets/controls",
          "model_module_version": "1.5.0",
          "model_name": "FloatProgressModel",
          "state": {
            "_dom_classes": [],
            "_model_module": "@jupyter-widgets/controls",
            "_model_module_version": "1.5.0",
            "_model_name": "FloatProgressModel",
            "_view_count": null,
            "_view_module": "@jupyter-widgets/controls",
            "_view_module_version": "1.5.0",
            "_view_name": "ProgressView",
            "bar_style": "success",
            "description": "",
            "description_tooltip": null,
            "layout": "IPY_MODEL_d5d0b6e665fd4308aa767a772c2ddc35",
            "max": 32,
            "min": 0,
            "orientation": "horizontal",
            "style": "IPY_MODEL_5e8b1d66141f4f55a688e151632ea6c7",
            "value": 32
          }
        },
        "2828586b5a724fd4bd267224abae7a5c": {
          "model_module": "@jupyter-widgets/controls",
          "model_module_version": "1.5.0",
          "model_name": "DescriptionStyleModel",
          "state": {
            "_model_module": "@jupyter-widgets/controls",
            "_model_module_version": "1.5.0",
            "_model_name": "DescriptionStyleModel",
            "_view_count": null,
            "_view_module": "@jupyter-widgets/base",
            "_view_module_version": "1.2.0",
            "_view_name": "StyleView",
            "description_width": ""
          }
        },
        "33041c0d222742cb8993266d874f254f": {
          "model_module": "@jupyter-widgets/base",
          "model_module_version": "1.2.0",
          "model_name": "LayoutModel",
          "state": {
            "_model_module": "@jupyter-widgets/base",
            "_model_module_version": "1.2.0",
            "_model_name": "LayoutModel",
            "_view_count": null,
            "_view_module": "@jupyter-widgets/base",
            "_view_module_version": "1.2.0",
            "_view_name": "LayoutView",
            "align_content": null,
            "align_items": null,
            "align_self": null,
            "border": null,
            "bottom": null,
            "display": null,
            "flex": null,
            "flex_flow": null,
            "grid_area": null,
            "grid_auto_columns": null,
            "grid_auto_flow": null,
            "grid_auto_rows": null,
            "grid_column": null,
            "grid_gap": null,
            "grid_row": null,
            "grid_template_areas": null,
            "grid_template_columns": null,
            "grid_template_rows": null,
            "height": null,
            "justify_content": null,
            "justify_items": null,
            "left": null,
            "margin": null,
            "max_height": null,
            "max_width": null,
            "min_height": null,
            "min_width": null,
            "object_fit": null,
            "object_position": null,
            "order": null,
            "overflow": null,
            "overflow_x": null,
            "overflow_y": null,
            "padding": null,
            "right": null,
            "top": null,
            "visibility": null,
            "width": null
          }
        },
        "350c1bee1932484eb84040b443e69ccd": {
          "model_module": "@jupyter-widgets/controls",
          "model_module_version": "1.5.0",
          "model_name": "FloatProgressModel",
          "state": {
            "_dom_classes": [],
            "_model_module": "@jupyter-widgets/controls",
            "_model_module_version": "1.5.0",
            "_model_name": "FloatProgressModel",
            "_view_count": null,
            "_view_module": "@jupyter-widgets/controls",
            "_view_module_version": "1.5.0",
            "_view_name": "ProgressView",
            "bar_style": "success",
            "description": "",
            "description_tooltip": null,
            "layout": "IPY_MODEL_73433990714f4be2b753f039d647424e",
            "max": 32,
            "min": 0,
            "orientation": "horizontal",
            "style": "IPY_MODEL_67c61cc103f84ab2bc31ad52febed307",
            "value": 32
          }
        },
        "388776227c8a4b86857807164971a6e4": {
          "model_module": "@jupyter-widgets/controls",
          "model_module_version": "1.5.0",
          "model_name": "DescriptionStyleModel",
          "state": {
            "_model_module": "@jupyter-widgets/controls",
            "_model_module_version": "1.5.0",
            "_model_name": "DescriptionStyleModel",
            "_view_count": null,
            "_view_module": "@jupyter-widgets/base",
            "_view_module_version": "1.2.0",
            "_view_name": "StyleView",
            "description_width": ""
          }
        },
        "38a1c244deb24fe78870328323049267": {
          "model_module": "@jupyter-widgets/controls",
          "model_module_version": "1.5.0",
          "model_name": "DescriptionStyleModel",
          "state": {
            "_model_module": "@jupyter-widgets/controls",
            "_model_module_version": "1.5.0",
            "_model_name": "DescriptionStyleModel",
            "_view_count": null,
            "_view_module": "@jupyter-widgets/base",
            "_view_module_version": "1.2.0",
            "_view_name": "StyleView",
            "description_width": ""
          }
        },
        "3baf000a199041808e042ba48d05b2ca": {
          "model_module": "@jupyter-widgets/controls",
          "model_module_version": "1.5.0",
          "model_name": "HTMLModel",
          "state": {
            "_dom_classes": [],
            "_model_module": "@jupyter-widgets/controls",
            "_model_module_version": "1.5.0",
            "_model_name": "HTMLModel",
            "_view_count": null,
            "_view_module": "@jupyter-widgets/controls",
            "_view_module_version": "1.5.0",
            "_view_name": "HTMLView",
            "description": "",
            "description_tooltip": null,
            "layout": "IPY_MODEL_22b8945c63354e71bce0cd3e37b830b7",
            "placeholder": "​",
            "style": "IPY_MODEL_be2b37e0a0fd454293a3fdc4dea59f70",
            "value": " 32/32 [01:19&lt;00:00,  1.89it/s]"
          }
        },
        "3cc6a88d5dab454f8617563b2ddedfdc": {
          "model_module": "@jupyter-widgets/controls",
          "model_module_version": "1.5.0",
          "model_name": "DescriptionStyleModel",
          "state": {
            "_model_module": "@jupyter-widgets/controls",
            "_model_module_version": "1.5.0",
            "_model_name": "DescriptionStyleModel",
            "_view_count": null,
            "_view_module": "@jupyter-widgets/base",
            "_view_module_version": "1.2.0",
            "_view_name": "StyleView",
            "description_width": ""
          }
        },
        "3e9a490a3cb2467698d7f1dd3f845f56": {
          "model_module": "@jupyter-widgets/base",
          "model_module_version": "1.2.0",
          "model_name": "LayoutModel",
          "state": {
            "_model_module": "@jupyter-widgets/base",
            "_model_module_version": "1.2.0",
            "_model_name": "LayoutModel",
            "_view_count": null,
            "_view_module": "@jupyter-widgets/base",
            "_view_module_version": "1.2.0",
            "_view_name": "LayoutView",
            "align_content": null,
            "align_items": null,
            "align_self": null,
            "border": null,
            "bottom": null,
            "display": null,
            "flex": null,
            "flex_flow": null,
            "grid_area": null,
            "grid_auto_columns": null,
            "grid_auto_flow": null,
            "grid_auto_rows": null,
            "grid_column": null,
            "grid_gap": null,
            "grid_row": null,
            "grid_template_areas": null,
            "grid_template_columns": null,
            "grid_template_rows": null,
            "height": null,
            "justify_content": null,
            "justify_items": null,
            "left": null,
            "margin": null,
            "max_height": null,
            "max_width": null,
            "min_height": null,
            "min_width": null,
            "object_fit": null,
            "object_position": null,
            "order": null,
            "overflow": null,
            "overflow_x": null,
            "overflow_y": null,
            "padding": null,
            "right": null,
            "top": null,
            "visibility": null,
            "width": null
          }
        },
        "40f37c4834304452954eaacfcb92f540": {
          "model_module": "@jupyter-widgets/controls",
          "model_module_version": "1.5.0",
          "model_name": "ProgressStyleModel",
          "state": {
            "_model_module": "@jupyter-widgets/controls",
            "_model_module_version": "1.5.0",
            "_model_name": "ProgressStyleModel",
            "_view_count": null,
            "_view_module": "@jupyter-widgets/base",
            "_view_module_version": "1.2.0",
            "_view_name": "StyleView",
            "bar_color": null,
            "description_width": ""
          }
        },
        "436d5feae5a6458898fd7ded1ac8af49": {
          "model_module": "@jupyter-widgets/controls",
          "model_module_version": "1.5.0",
          "model_name": "DescriptionStyleModel",
          "state": {
            "_model_module": "@jupyter-widgets/controls",
            "_model_module_version": "1.5.0",
            "_model_name": "DescriptionStyleModel",
            "_view_count": null,
            "_view_module": "@jupyter-widgets/base",
            "_view_module_version": "1.2.0",
            "_view_name": "StyleView",
            "description_width": ""
          }
        },
        "47d559f38a174c83afebc518e0eae7fb": {
          "model_module": "@jupyter-widgets/controls",
          "model_module_version": "1.5.0",
          "model_name": "FloatProgressModel",
          "state": {
            "_dom_classes": [],
            "_model_module": "@jupyter-widgets/controls",
            "_model_module_version": "1.5.0",
            "_model_name": "FloatProgressModel",
            "_view_count": null,
            "_view_module": "@jupyter-widgets/controls",
            "_view_module_version": "1.5.0",
            "_view_name": "ProgressView",
            "bar_style": "success",
            "description": "",
            "description_tooltip": null,
            "layout": "IPY_MODEL_7c6d5bf5ccd448b3928e5020c43d5cf2",
            "max": 32,
            "min": 0,
            "orientation": "horizontal",
            "style": "IPY_MODEL_c0ff7c8fa4cb4f2e83dd7c41e01ca5ee",
            "value": 32
          }
        },
        "4ff54de1a01648a7a815e812d1cf4cd1": {
          "model_module": "@jupyter-widgets/controls",
          "model_module_version": "1.5.0",
          "model_name": "DescriptionStyleModel",
          "state": {
            "_model_module": "@jupyter-widgets/controls",
            "_model_module_version": "1.5.0",
            "_model_name": "DescriptionStyleModel",
            "_view_count": null,
            "_view_module": "@jupyter-widgets/base",
            "_view_module_version": "1.2.0",
            "_view_name": "StyleView",
            "description_width": ""
          }
        },
        "5256b7a3ae9945f1ad8767ea88349654": {
          "model_module": "@jupyter-widgets/controls",
          "model_module_version": "1.5.0",
          "model_name": "HTMLModel",
          "state": {
            "_dom_classes": [],
            "_model_module": "@jupyter-widgets/controls",
            "_model_module_version": "1.5.0",
            "_model_name": "HTMLModel",
            "_view_count": null,
            "_view_module": "@jupyter-widgets/controls",
            "_view_module_version": "1.5.0",
            "_view_name": "HTMLView",
            "description": "",
            "description_tooltip": null,
            "layout": "IPY_MODEL_af8b914adb3e4989a860e8a64a4f4b85",
            "placeholder": "​",
            "style": "IPY_MODEL_38a1c244deb24fe78870328323049267",
            "value": "100%"
          }
        },
        "54de41b08f6c40f48ab26a0571143bf6": {
          "model_module": "@jupyter-widgets/base",
          "model_module_version": "1.2.0",
          "model_name": "LayoutModel",
          "state": {
            "_model_module": "@jupyter-widgets/base",
            "_model_module_version": "1.2.0",
            "_model_name": "LayoutModel",
            "_view_count": null,
            "_view_module": "@jupyter-widgets/base",
            "_view_module_version": "1.2.0",
            "_view_name": "LayoutView",
            "align_content": null,
            "align_items": null,
            "align_self": null,
            "border": null,
            "bottom": null,
            "display": null,
            "flex": null,
            "flex_flow": null,
            "grid_area": null,
            "grid_auto_columns": null,
            "grid_auto_flow": null,
            "grid_auto_rows": null,
            "grid_column": null,
            "grid_gap": null,
            "grid_row": null,
            "grid_template_areas": null,
            "grid_template_columns": null,
            "grid_template_rows": null,
            "height": null,
            "justify_content": null,
            "justify_items": null,
            "left": null,
            "margin": null,
            "max_height": null,
            "max_width": null,
            "min_height": null,
            "min_width": null,
            "object_fit": null,
            "object_position": null,
            "order": null,
            "overflow": null,
            "overflow_x": null,
            "overflow_y": null,
            "padding": null,
            "right": null,
            "top": null,
            "visibility": null,
            "width": null
          }
        },
        "54e97145983046eabbc77bcbe6f845b4": {
          "model_module": "@jupyter-widgets/controls",
          "model_module_version": "1.5.0",
          "model_name": "HBoxModel",
          "state": {
            "_dom_classes": [],
            "_model_module": "@jupyter-widgets/controls",
            "_model_module_version": "1.5.0",
            "_model_name": "HBoxModel",
            "_view_count": null,
            "_view_module": "@jupyter-widgets/controls",
            "_view_module_version": "1.5.0",
            "_view_name": "HBoxView",
            "box_style": "",
            "children": [
              "IPY_MODEL_5878eb42798d4cfebeae1b84886a786c",
              "IPY_MODEL_8de1ca2f263c4288999375168085d214",
              "IPY_MODEL_3baf000a199041808e042ba48d05b2ca"
            ],
            "layout": "IPY_MODEL_f5a185ab10b74302b6054471c0110308"
          }
        },
        "5878eb42798d4cfebeae1b84886a786c": {
          "model_module": "@jupyter-widgets/controls",
          "model_module_version": "1.5.0",
          "model_name": "HTMLModel",
          "state": {
            "_dom_classes": [],
            "_model_module": "@jupyter-widgets/controls",
            "_model_module_version": "1.5.0",
            "_model_name": "HTMLModel",
            "_view_count": null,
            "_view_module": "@jupyter-widgets/controls",
            "_view_module_version": "1.5.0",
            "_view_name": "HTMLView",
            "description": "",
            "description_tooltip": null,
            "layout": "IPY_MODEL_ec4c86d05b6c4b60bc77945286dc1367",
            "placeholder": "​",
            "style": "IPY_MODEL_ce5c918c87bd4a9089a797c62b62c2b7",
            "value": "100%"
          }
        },
        "5a6bfea63d284940a84b3ef29e941c14": {
          "model_module": "@jupyter-widgets/controls",
          "model_module_version": "1.5.0",
          "model_name": "HTMLModel",
          "state": {
            "_dom_classes": [],
            "_model_module": "@jupyter-widgets/controls",
            "_model_module_version": "1.5.0",
            "_model_name": "HTMLModel",
            "_view_count": null,
            "_view_module": "@jupyter-widgets/controls",
            "_view_module_version": "1.5.0",
            "_view_name": "HTMLView",
            "description": "",
            "description_tooltip": null,
            "layout": "IPY_MODEL_3e9a490a3cb2467698d7f1dd3f845f56",
            "placeholder": "​",
            "style": "IPY_MODEL_436d5feae5a6458898fd7ded1ac8af49",
            "value": " 32/32 [00:38&lt;00:00,  3.72it/s]"
          }
        },
        "5ae27c9975844ce49e848068aba6e07f": {
          "model_module": "@jupyter-widgets/controls",
          "model_module_version": "1.5.0",
          "model_name": "DescriptionStyleModel",
          "state": {
            "_model_module": "@jupyter-widgets/controls",
            "_model_module_version": "1.5.0",
            "_model_name": "DescriptionStyleModel",
            "_view_count": null,
            "_view_module": "@jupyter-widgets/base",
            "_view_module_version": "1.2.0",
            "_view_name": "StyleView",
            "description_width": ""
          }
        },
        "5cdf7860a8134fea9bcb3dfd24c83582": {
          "model_module": "@jupyter-widgets/controls",
          "model_module_version": "1.5.0",
          "model_name": "HTMLModel",
          "state": {
            "_dom_classes": [],
            "_model_module": "@jupyter-widgets/controls",
            "_model_module_version": "1.5.0",
            "_model_name": "HTMLModel",
            "_view_count": null,
            "_view_module": "@jupyter-widgets/controls",
            "_view_module_version": "1.5.0",
            "_view_name": "HTMLView",
            "description": "",
            "description_tooltip": null,
            "layout": "IPY_MODEL_239c27e0b59e497f84292aadf29fc72b",
            "placeholder": "​",
            "style": "IPY_MODEL_3cc6a88d5dab454f8617563b2ddedfdc",
            "value": " 32/32 [00:42&lt;00:00,  3.18it/s]"
          }
        },
        "5e2718784e904faeb472e956ce15f6cc": {
          "model_module": "@jupyter-widgets/controls",
          "model_module_version": "1.5.0",
          "model_name": "HTMLModel",
          "state": {
            "_dom_classes": [],
            "_model_module": "@jupyter-widgets/controls",
            "_model_module_version": "1.5.0",
            "_model_name": "HTMLModel",
            "_view_count": null,
            "_view_module": "@jupyter-widgets/controls",
            "_view_module_version": "1.5.0",
            "_view_name": "HTMLView",
            "description": "",
            "description_tooltip": null,
            "layout": "IPY_MODEL_955ff5e9d0a4452cb44ea29b3ccb8480",
            "placeholder": "​",
            "style": "IPY_MODEL_6af5807bca584157b73ec6ccff41cb33",
            "value": " 32/32 [00:05&lt;00:00,  8.76it/s]"
          }
        },
        "5e8b1d66141f4f55a688e151632ea6c7": {
          "model_module": "@jupyter-widgets/controls",
          "model_module_version": "1.5.0",
          "model_name": "ProgressStyleModel",
          "state": {
            "_model_module": "@jupyter-widgets/controls",
            "_model_module_version": "1.5.0",
            "_model_name": "ProgressStyleModel",
            "_view_count": null,
            "_view_module": "@jupyter-widgets/base",
            "_view_module_version": "1.2.0",
            "_view_name": "StyleView",
            "bar_color": null,
            "description_width": ""
          }
        },
        "61fea2b5bcd04926989981db58e9371f": {
          "model_module": "@jupyter-widgets/controls",
          "model_module_version": "1.5.0",
          "model_name": "DescriptionStyleModel",
          "state": {
            "_model_module": "@jupyter-widgets/controls",
            "_model_module_version": "1.5.0",
            "_model_name": "DescriptionStyleModel",
            "_view_count": null,
            "_view_module": "@jupyter-widgets/base",
            "_view_module_version": "1.2.0",
            "_view_name": "StyleView",
            "description_width": ""
          }
        },
        "632a7b3c6dff4b7d9fcfbb4275a17d07": {
          "model_module": "@jupyter-widgets/controls",
          "model_module_version": "1.5.0",
          "model_name": "HTMLModel",
          "state": {
            "_dom_classes": [],
            "_model_module": "@jupyter-widgets/controls",
            "_model_module_version": "1.5.0",
            "_model_name": "HTMLModel",
            "_view_count": null,
            "_view_module": "@jupyter-widgets/controls",
            "_view_module_version": "1.5.0",
            "_view_name": "HTMLView",
            "description": "",
            "description_tooltip": null,
            "layout": "IPY_MODEL_9e97505b33ad4cef8aee145d49962fec",
            "placeholder": "​",
            "style": "IPY_MODEL_388776227c8a4b86857807164971a6e4",
            "value": " 32/32 [00:46&lt;00:00,  3.18it/s]"
          }
        },
        "67c61cc103f84ab2bc31ad52febed307": {
          "model_module": "@jupyter-widgets/controls",
          "model_module_version": "1.5.0",
          "model_name": "ProgressStyleModel",
          "state": {
            "_model_module": "@jupyter-widgets/controls",
            "_model_module_version": "1.5.0",
            "_model_name": "ProgressStyleModel",
            "_view_count": null,
            "_view_module": "@jupyter-widgets/base",
            "_view_module_version": "1.2.0",
            "_view_name": "StyleView",
            "bar_color": null,
            "description_width": ""
          }
        },
        "6af5807bca584157b73ec6ccff41cb33": {
          "model_module": "@jupyter-widgets/controls",
          "model_module_version": "1.5.0",
          "model_name": "DescriptionStyleModel",
          "state": {
            "_model_module": "@jupyter-widgets/controls",
            "_model_module_version": "1.5.0",
            "_model_name": "DescriptionStyleModel",
            "_view_count": null,
            "_view_module": "@jupyter-widgets/base",
            "_view_module_version": "1.2.0",
            "_view_name": "StyleView",
            "description_width": ""
          }
        },
        "73433990714f4be2b753f039d647424e": {
          "model_module": "@jupyter-widgets/base",
          "model_module_version": "1.2.0",
          "model_name": "LayoutModel",
          "state": {
            "_model_module": "@jupyter-widgets/base",
            "_model_module_version": "1.2.0",
            "_model_name": "LayoutModel",
            "_view_count": null,
            "_view_module": "@jupyter-widgets/base",
            "_view_module_version": "1.2.0",
            "_view_name": "LayoutView",
            "align_content": null,
            "align_items": null,
            "align_self": null,
            "border": null,
            "bottom": null,
            "display": null,
            "flex": null,
            "flex_flow": null,
            "grid_area": null,
            "grid_auto_columns": null,
            "grid_auto_flow": null,
            "grid_auto_rows": null,
            "grid_column": null,
            "grid_gap": null,
            "grid_row": null,
            "grid_template_areas": null,
            "grid_template_columns": null,
            "grid_template_rows": null,
            "height": null,
            "justify_content": null,
            "justify_items": null,
            "left": null,
            "margin": null,
            "max_height": null,
            "max_width": null,
            "min_height": null,
            "min_width": null,
            "object_fit": null,
            "object_position": null,
            "order": null,
            "overflow": null,
            "overflow_x": null,
            "overflow_y": null,
            "padding": null,
            "right": null,
            "top": null,
            "visibility": null,
            "width": null
          }
        },
        "7c6d5bf5ccd448b3928e5020c43d5cf2": {
          "model_module": "@jupyter-widgets/base",
          "model_module_version": "1.2.0",
          "model_name": "LayoutModel",
          "state": {
            "_model_module": "@jupyter-widgets/base",
            "_model_module_version": "1.2.0",
            "_model_name": "LayoutModel",
            "_view_count": null,
            "_view_module": "@jupyter-widgets/base",
            "_view_module_version": "1.2.0",
            "_view_name": "LayoutView",
            "align_content": null,
            "align_items": null,
            "align_self": null,
            "border": null,
            "bottom": null,
            "display": null,
            "flex": null,
            "flex_flow": null,
            "grid_area": null,
            "grid_auto_columns": null,
            "grid_auto_flow": null,
            "grid_auto_rows": null,
            "grid_column": null,
            "grid_gap": null,
            "grid_row": null,
            "grid_template_areas": null,
            "grid_template_columns": null,
            "grid_template_rows": null,
            "height": null,
            "justify_content": null,
            "justify_items": null,
            "left": null,
            "margin": null,
            "max_height": null,
            "max_width": null,
            "min_height": null,
            "min_width": null,
            "object_fit": null,
            "object_position": null,
            "order": null,
            "overflow": null,
            "overflow_x": null,
            "overflow_y": null,
            "padding": null,
            "right": null,
            "top": null,
            "visibility": null,
            "width": null
          }
        },
        "895908ed30184dc18060cf877dc73b9f": {
          "model_module": "@jupyter-widgets/base",
          "model_module_version": "1.2.0",
          "model_name": "LayoutModel",
          "state": {
            "_model_module": "@jupyter-widgets/base",
            "_model_module_version": "1.2.0",
            "_model_name": "LayoutModel",
            "_view_count": null,
            "_view_module": "@jupyter-widgets/base",
            "_view_module_version": "1.2.0",
            "_view_name": "LayoutView",
            "align_content": null,
            "align_items": null,
            "align_self": null,
            "border": null,
            "bottom": null,
            "display": null,
            "flex": null,
            "flex_flow": null,
            "grid_area": null,
            "grid_auto_columns": null,
            "grid_auto_flow": null,
            "grid_auto_rows": null,
            "grid_column": null,
            "grid_gap": null,
            "grid_row": null,
            "grid_template_areas": null,
            "grid_template_columns": null,
            "grid_template_rows": null,
            "height": null,
            "justify_content": null,
            "justify_items": null,
            "left": null,
            "margin": null,
            "max_height": null,
            "max_width": null,
            "min_height": null,
            "min_width": null,
            "object_fit": null,
            "object_position": null,
            "order": null,
            "overflow": null,
            "overflow_x": null,
            "overflow_y": null,
            "padding": null,
            "right": null,
            "top": null,
            "visibility": null,
            "width": null
          }
        },
        "8de1ca2f263c4288999375168085d214": {
          "model_module": "@jupyter-widgets/controls",
          "model_module_version": "1.5.0",
          "model_name": "FloatProgressModel",
          "state": {
            "_dom_classes": [],
            "_model_module": "@jupyter-widgets/controls",
            "_model_module_version": "1.5.0",
            "_model_name": "FloatProgressModel",
            "_view_count": null,
            "_view_module": "@jupyter-widgets/controls",
            "_view_module_version": "1.5.0",
            "_view_name": "ProgressView",
            "bar_style": "success",
            "description": "",
            "description_tooltip": null,
            "layout": "IPY_MODEL_d07fbf1c8703440fb5ec3d444a773fca",
            "max": 32,
            "min": 0,
            "orientation": "horizontal",
            "style": "IPY_MODEL_1172247f63dd4e1b982c1782a204a3ea",
            "value": 32
          }
        },
        "8f6d3e76560546faa385f649d22bf6e6": {
          "model_module": "@jupyter-widgets/controls",
          "model_module_version": "1.5.0",
          "model_name": "ProgressStyleModel",
          "state": {
            "_model_module": "@jupyter-widgets/controls",
            "_model_module_version": "1.5.0",
            "_model_name": "ProgressStyleModel",
            "_view_count": null,
            "_view_module": "@jupyter-widgets/base",
            "_view_module_version": "1.2.0",
            "_view_name": "StyleView",
            "bar_color": null,
            "description_width": ""
          }
        },
        "90b1104adc754e9b846774fadd641aaf": {
          "model_module": "@jupyter-widgets/base",
          "model_module_version": "1.2.0",
          "model_name": "LayoutModel",
          "state": {
            "_model_module": "@jupyter-widgets/base",
            "_model_module_version": "1.2.0",
            "_model_name": "LayoutModel",
            "_view_count": null,
            "_view_module": "@jupyter-widgets/base",
            "_view_module_version": "1.2.0",
            "_view_name": "LayoutView",
            "align_content": null,
            "align_items": null,
            "align_self": null,
            "border": null,
            "bottom": null,
            "display": null,
            "flex": null,
            "flex_flow": null,
            "grid_area": null,
            "grid_auto_columns": null,
            "grid_auto_flow": null,
            "grid_auto_rows": null,
            "grid_column": null,
            "grid_gap": null,
            "grid_row": null,
            "grid_template_areas": null,
            "grid_template_columns": null,
            "grid_template_rows": null,
            "height": null,
            "justify_content": null,
            "justify_items": null,
            "left": null,
            "margin": null,
            "max_height": null,
            "max_width": null,
            "min_height": null,
            "min_width": null,
            "object_fit": null,
            "object_position": null,
            "order": null,
            "overflow": null,
            "overflow_x": null,
            "overflow_y": null,
            "padding": null,
            "right": null,
            "top": null,
            "visibility": null,
            "width": null
          }
        },
        "9348d4df812140f7853e43a9921203ca": {
          "model_module": "@jupyter-widgets/base",
          "model_module_version": "1.2.0",
          "model_name": "LayoutModel",
          "state": {
            "_model_module": "@jupyter-widgets/base",
            "_model_module_version": "1.2.0",
            "_model_name": "LayoutModel",
            "_view_count": null,
            "_view_module": "@jupyter-widgets/base",
            "_view_module_version": "1.2.0",
            "_view_name": "LayoutView",
            "align_content": null,
            "align_items": null,
            "align_self": null,
            "border": null,
            "bottom": null,
            "display": null,
            "flex": null,
            "flex_flow": null,
            "grid_area": null,
            "grid_auto_columns": null,
            "grid_auto_flow": null,
            "grid_auto_rows": null,
            "grid_column": null,
            "grid_gap": null,
            "grid_row": null,
            "grid_template_areas": null,
            "grid_template_columns": null,
            "grid_template_rows": null,
            "height": null,
            "justify_content": null,
            "justify_items": null,
            "left": null,
            "margin": null,
            "max_height": null,
            "max_width": null,
            "min_height": null,
            "min_width": null,
            "object_fit": null,
            "object_position": null,
            "order": null,
            "overflow": null,
            "overflow_x": null,
            "overflow_y": null,
            "padding": null,
            "right": null,
            "top": null,
            "visibility": null,
            "width": null
          }
        },
        "94f2d69df8cd4a0db12252a0de156a90": {
          "model_module": "@jupyter-widgets/base",
          "model_module_version": "1.2.0",
          "model_name": "LayoutModel",
          "state": {
            "_model_module": "@jupyter-widgets/base",
            "_model_module_version": "1.2.0",
            "_model_name": "LayoutModel",
            "_view_count": null,
            "_view_module": "@jupyter-widgets/base",
            "_view_module_version": "1.2.0",
            "_view_name": "LayoutView",
            "align_content": null,
            "align_items": null,
            "align_self": null,
            "border": null,
            "bottom": null,
            "display": null,
            "flex": null,
            "flex_flow": null,
            "grid_area": null,
            "grid_auto_columns": null,
            "grid_auto_flow": null,
            "grid_auto_rows": null,
            "grid_column": null,
            "grid_gap": null,
            "grid_row": null,
            "grid_template_areas": null,
            "grid_template_columns": null,
            "grid_template_rows": null,
            "height": null,
            "justify_content": null,
            "justify_items": null,
            "left": null,
            "margin": null,
            "max_height": null,
            "max_width": null,
            "min_height": null,
            "min_width": null,
            "object_fit": null,
            "object_position": null,
            "order": null,
            "overflow": null,
            "overflow_x": null,
            "overflow_y": null,
            "padding": null,
            "right": null,
            "top": null,
            "visibility": null,
            "width": null
          }
        },
        "955ff5e9d0a4452cb44ea29b3ccb8480": {
          "model_module": "@jupyter-widgets/base",
          "model_module_version": "1.2.0",
          "model_name": "LayoutModel",
          "state": {
            "_model_module": "@jupyter-widgets/base",
            "_model_module_version": "1.2.0",
            "_model_name": "LayoutModel",
            "_view_count": null,
            "_view_module": "@jupyter-widgets/base",
            "_view_module_version": "1.2.0",
            "_view_name": "LayoutView",
            "align_content": null,
            "align_items": null,
            "align_self": null,
            "border": null,
            "bottom": null,
            "display": null,
            "flex": null,
            "flex_flow": null,
            "grid_area": null,
            "grid_auto_columns": null,
            "grid_auto_flow": null,
            "grid_auto_rows": null,
            "grid_column": null,
            "grid_gap": null,
            "grid_row": null,
            "grid_template_areas": null,
            "grid_template_columns": null,
            "grid_template_rows": null,
            "height": null,
            "justify_content": null,
            "justify_items": null,
            "left": null,
            "margin": null,
            "max_height": null,
            "max_width": null,
            "min_height": null,
            "min_width": null,
            "object_fit": null,
            "object_position": null,
            "order": null,
            "overflow": null,
            "overflow_x": null,
            "overflow_y": null,
            "padding": null,
            "right": null,
            "top": null,
            "visibility": null,
            "width": null
          }
        },
        "98659e7edc2a4a00b01f7aca3399b106": {
          "model_module": "@jupyter-widgets/controls",
          "model_module_version": "1.5.0",
          "model_name": "HTMLModel",
          "state": {
            "_dom_classes": [],
            "_model_module": "@jupyter-widgets/controls",
            "_model_module_version": "1.5.0",
            "_model_name": "HTMLModel",
            "_view_count": null,
            "_view_module": "@jupyter-widgets/controls",
            "_view_module_version": "1.5.0",
            "_view_name": "HTMLView",
            "description": "",
            "description_tooltip": null,
            "layout": "IPY_MODEL_d83af5f0014544468f662f7407419c92",
            "placeholder": "​",
            "style": "IPY_MODEL_e528b60f55f040f0bf50657d5a3c4e55",
            "value": " 32/32 [01:40&lt;00:00,  1.01s/it]"
          }
        },
        "9c3e6d7b7f00432f8c1c24aebb2a8191": {
          "model_module": "@jupyter-widgets/base",
          "model_module_version": "1.2.0",
          "model_name": "LayoutModel",
          "state": {
            "_model_module": "@jupyter-widgets/base",
            "_model_module_version": "1.2.0",
            "_model_name": "LayoutModel",
            "_view_count": null,
            "_view_module": "@jupyter-widgets/base",
            "_view_module_version": "1.2.0",
            "_view_name": "LayoutView",
            "align_content": null,
            "align_items": null,
            "align_self": null,
            "border": null,
            "bottom": null,
            "display": null,
            "flex": null,
            "flex_flow": null,
            "grid_area": null,
            "grid_auto_columns": null,
            "grid_auto_flow": null,
            "grid_auto_rows": null,
            "grid_column": null,
            "grid_gap": null,
            "grid_row": null,
            "grid_template_areas": null,
            "grid_template_columns": null,
            "grid_template_rows": null,
            "height": null,
            "justify_content": null,
            "justify_items": null,
            "left": null,
            "margin": null,
            "max_height": null,
            "max_width": null,
            "min_height": null,
            "min_width": null,
            "object_fit": null,
            "object_position": null,
            "order": null,
            "overflow": null,
            "overflow_x": null,
            "overflow_y": null,
            "padding": null,
            "right": null,
            "top": null,
            "visibility": null,
            "width": null
          }
        },
        "9cac34ab84ea47e79e8811908faa025f": {
          "model_module": "@jupyter-widgets/controls",
          "model_module_version": "1.5.0",
          "model_name": "HTMLModel",
          "state": {
            "_dom_classes": [],
            "_model_module": "@jupyter-widgets/controls",
            "_model_module_version": "1.5.0",
            "_model_name": "HTMLModel",
            "_view_count": null,
            "_view_module": "@jupyter-widgets/controls",
            "_view_module_version": "1.5.0",
            "_view_name": "HTMLView",
            "description": "",
            "description_tooltip": null,
            "layout": "IPY_MODEL_895908ed30184dc18060cf877dc73b9f",
            "placeholder": "​",
            "style": "IPY_MODEL_2828586b5a724fd4bd267224abae7a5c",
            "value": "100%"
          }
        },
        "9e450c2222ee4bc2b7506f0cba5cb39e": {
          "model_module": "@jupyter-widgets/controls",
          "model_module_version": "1.5.0",
          "model_name": "HBoxModel",
          "state": {
            "_dom_classes": [],
            "_model_module": "@jupyter-widgets/controls",
            "_model_module_version": "1.5.0",
            "_model_name": "HBoxModel",
            "_view_count": null,
            "_view_module": "@jupyter-widgets/controls",
            "_view_module_version": "1.5.0",
            "_view_name": "HBoxView",
            "box_style": "",
            "children": [
              "IPY_MODEL_bcc22511e8df4ca4af7b8826c1dad6aa",
              "IPY_MODEL_9fef5265b1c245ac88be9840f51bba22",
              "IPY_MODEL_98659e7edc2a4a00b01f7aca3399b106"
            ],
            "layout": "IPY_MODEL_54de41b08f6c40f48ab26a0571143bf6"
          }
        },
        "9e97505b33ad4cef8aee145d49962fec": {
          "model_module": "@jupyter-widgets/base",
          "model_module_version": "1.2.0",
          "model_name": "LayoutModel",
          "state": {
            "_model_module": "@jupyter-widgets/base",
            "_model_module_version": "1.2.0",
            "_model_name": "LayoutModel",
            "_view_count": null,
            "_view_module": "@jupyter-widgets/base",
            "_view_module_version": "1.2.0",
            "_view_name": "LayoutView",
            "align_content": null,
            "align_items": null,
            "align_self": null,
            "border": null,
            "bottom": null,
            "display": null,
            "flex": null,
            "flex_flow": null,
            "grid_area": null,
            "grid_auto_columns": null,
            "grid_auto_flow": null,
            "grid_auto_rows": null,
            "grid_column": null,
            "grid_gap": null,
            "grid_row": null,
            "grid_template_areas": null,
            "grid_template_columns": null,
            "grid_template_rows": null,
            "height": null,
            "justify_content": null,
            "justify_items": null,
            "left": null,
            "margin": null,
            "max_height": null,
            "max_width": null,
            "min_height": null,
            "min_width": null,
            "object_fit": null,
            "object_position": null,
            "order": null,
            "overflow": null,
            "overflow_x": null,
            "overflow_y": null,
            "padding": null,
            "right": null,
            "top": null,
            "visibility": null,
            "width": null
          }
        },
        "9fef5265b1c245ac88be9840f51bba22": {
          "model_module": "@jupyter-widgets/controls",
          "model_module_version": "1.5.0",
          "model_name": "FloatProgressModel",
          "state": {
            "_dom_classes": [],
            "_model_module": "@jupyter-widgets/controls",
            "_model_module_version": "1.5.0",
            "_model_name": "FloatProgressModel",
            "_view_count": null,
            "_view_module": "@jupyter-widgets/controls",
            "_view_module_version": "1.5.0",
            "_view_name": "ProgressView",
            "bar_style": "success",
            "description": "",
            "description_tooltip": null,
            "layout": "IPY_MODEL_94f2d69df8cd4a0db12252a0de156a90",
            "max": 32,
            "min": 0,
            "orientation": "horizontal",
            "style": "IPY_MODEL_187558e16fb54e3caa962d9e730b782d",
            "value": 32
          }
        },
        "a0828a4061714ae98a9b25957e3180ac": {
          "model_module": "@jupyter-widgets/controls",
          "model_module_version": "1.5.0",
          "model_name": "HTMLModel",
          "state": {
            "_dom_classes": [],
            "_model_module": "@jupyter-widgets/controls",
            "_model_module_version": "1.5.0",
            "_model_name": "HTMLModel",
            "_view_count": null,
            "_view_module": "@jupyter-widgets/controls",
            "_view_module_version": "1.5.0",
            "_view_name": "HTMLView",
            "description": "",
            "description_tooltip": null,
            "layout": "IPY_MODEL_ebf11a59be124789b6cf2ed5c8e18eb7",
            "placeholder": "​",
            "style": "IPY_MODEL_4ff54de1a01648a7a815e812d1cf4cd1",
            "value": "100%"
          }
        },
        "ac63f0f597e44ae3b25e8042764cdf45": {
          "model_module": "@jupyter-widgets/base",
          "model_module_version": "1.2.0",
          "model_name": "LayoutModel",
          "state": {
            "_model_module": "@jupyter-widgets/base",
            "_model_module_version": "1.2.0",
            "_model_name": "LayoutModel",
            "_view_count": null,
            "_view_module": "@jupyter-widgets/base",
            "_view_module_version": "1.2.0",
            "_view_name": "LayoutView",
            "align_content": null,
            "align_items": null,
            "align_self": null,
            "border": null,
            "bottom": null,
            "display": null,
            "flex": null,
            "flex_flow": null,
            "grid_area": null,
            "grid_auto_columns": null,
            "grid_auto_flow": null,
            "grid_auto_rows": null,
            "grid_column": null,
            "grid_gap": null,
            "grid_row": null,
            "grid_template_areas": null,
            "grid_template_columns": null,
            "grid_template_rows": null,
            "height": null,
            "justify_content": null,
            "justify_items": null,
            "left": null,
            "margin": null,
            "max_height": null,
            "max_width": null,
            "min_height": null,
            "min_width": null,
            "object_fit": null,
            "object_position": null,
            "order": null,
            "overflow": null,
            "overflow_x": null,
            "overflow_y": null,
            "padding": null,
            "right": null,
            "top": null,
            "visibility": null,
            "width": null
          }
        },
        "af8b914adb3e4989a860e8a64a4f4b85": {
          "model_module": "@jupyter-widgets/base",
          "model_module_version": "1.2.0",
          "model_name": "LayoutModel",
          "state": {
            "_model_module": "@jupyter-widgets/base",
            "_model_module_version": "1.2.0",
            "_model_name": "LayoutModel",
            "_view_count": null,
            "_view_module": "@jupyter-widgets/base",
            "_view_module_version": "1.2.0",
            "_view_name": "LayoutView",
            "align_content": null,
            "align_items": null,
            "align_self": null,
            "border": null,
            "bottom": null,
            "display": null,
            "flex": null,
            "flex_flow": null,
            "grid_area": null,
            "grid_auto_columns": null,
            "grid_auto_flow": null,
            "grid_auto_rows": null,
            "grid_column": null,
            "grid_gap": null,
            "grid_row": null,
            "grid_template_areas": null,
            "grid_template_columns": null,
            "grid_template_rows": null,
            "height": null,
            "justify_content": null,
            "justify_items": null,
            "left": null,
            "margin": null,
            "max_height": null,
            "max_width": null,
            "min_height": null,
            "min_width": null,
            "object_fit": null,
            "object_position": null,
            "order": null,
            "overflow": null,
            "overflow_x": null,
            "overflow_y": null,
            "padding": null,
            "right": null,
            "top": null,
            "visibility": null,
            "width": null
          }
        },
        "b833c1dab8b74a7a867a7cbfdab83793": {
          "model_module": "@jupyter-widgets/controls",
          "model_module_version": "1.5.0",
          "model_name": "HTMLModel",
          "state": {
            "_dom_classes": [],
            "_model_module": "@jupyter-widgets/controls",
            "_model_module_version": "1.5.0",
            "_model_name": "HTMLModel",
            "_view_count": null,
            "_view_module": "@jupyter-widgets/controls",
            "_view_module_version": "1.5.0",
            "_view_name": "HTMLView",
            "description": "",
            "description_tooltip": null,
            "layout": "IPY_MODEL_c98e78e292b04805bda513f488c6d1e9",
            "placeholder": "​",
            "style": "IPY_MODEL_61fea2b5bcd04926989981db58e9371f",
            "value": "100%"
          }
        },
        "ba2948b8f6a84ae493f2fdc3c03962b3": {
          "model_module": "@jupyter-widgets/controls",
          "model_module_version": "1.5.0",
          "model_name": "HBoxModel",
          "state": {
            "_dom_classes": [],
            "_model_module": "@jupyter-widgets/controls",
            "_model_module_version": "1.5.0",
            "_model_name": "HBoxModel",
            "_view_count": null,
            "_view_module": "@jupyter-widgets/controls",
            "_view_module_version": "1.5.0",
            "_view_name": "HBoxView",
            "box_style": "",
            "children": [
              "IPY_MODEL_5256b7a3ae9945f1ad8767ea88349654",
              "IPY_MODEL_47d559f38a174c83afebc518e0eae7fb",
              "IPY_MODEL_5cdf7860a8134fea9bcb3dfd24c83582"
            ],
            "layout": "IPY_MODEL_e4ec83b2d1bc4321842af5b7c1a083f5"
          }
        },
        "bcc22511e8df4ca4af7b8826c1dad6aa": {
          "model_module": "@jupyter-widgets/controls",
          "model_module_version": "1.5.0",
          "model_name": "HTMLModel",
          "state": {
            "_dom_classes": [],
            "_model_module": "@jupyter-widgets/controls",
            "_model_module_version": "1.5.0",
            "_model_name": "HTMLModel",
            "_view_count": null,
            "_view_module": "@jupyter-widgets/controls",
            "_view_module_version": "1.5.0",
            "_view_name": "HTMLView",
            "description": "",
            "description_tooltip": null,
            "layout": "IPY_MODEL_bfa93bab9d194b01a0d8ac46771f211e",
            "placeholder": "​",
            "style": "IPY_MODEL_5ae27c9975844ce49e848068aba6e07f",
            "value": "100%"
          }
        },
        "be2b37e0a0fd454293a3fdc4dea59f70": {
          "model_module": "@jupyter-widgets/controls",
          "model_module_version": "1.5.0",
          "model_name": "DescriptionStyleModel",
          "state": {
            "_model_module": "@jupyter-widgets/controls",
            "_model_module_version": "1.5.0",
            "_model_name": "DescriptionStyleModel",
            "_view_count": null,
            "_view_module": "@jupyter-widgets/base",
            "_view_module_version": "1.2.0",
            "_view_name": "StyleView",
            "description_width": ""
          }
        },
        "bfa93bab9d194b01a0d8ac46771f211e": {
          "model_module": "@jupyter-widgets/base",
          "model_module_version": "1.2.0",
          "model_name": "LayoutModel",
          "state": {
            "_model_module": "@jupyter-widgets/base",
            "_model_module_version": "1.2.0",
            "_model_name": "LayoutModel",
            "_view_count": null,
            "_view_module": "@jupyter-widgets/base",
            "_view_module_version": "1.2.0",
            "_view_name": "LayoutView",
            "align_content": null,
            "align_items": null,
            "align_self": null,
            "border": null,
            "bottom": null,
            "display": null,
            "flex": null,
            "flex_flow": null,
            "grid_area": null,
            "grid_auto_columns": null,
            "grid_auto_flow": null,
            "grid_auto_rows": null,
            "grid_column": null,
            "grid_gap": null,
            "grid_row": null,
            "grid_template_areas": null,
            "grid_template_columns": null,
            "grid_template_rows": null,
            "height": null,
            "justify_content": null,
            "justify_items": null,
            "left": null,
            "margin": null,
            "max_height": null,
            "max_width": null,
            "min_height": null,
            "min_width": null,
            "object_fit": null,
            "object_position": null,
            "order": null,
            "overflow": null,
            "overflow_x": null,
            "overflow_y": null,
            "padding": null,
            "right": null,
            "top": null,
            "visibility": null,
            "width": null
          }
        },
        "c0ff7c8fa4cb4f2e83dd7c41e01ca5ee": {
          "model_module": "@jupyter-widgets/controls",
          "model_module_version": "1.5.0",
          "model_name": "ProgressStyleModel",
          "state": {
            "_model_module": "@jupyter-widgets/controls",
            "_model_module_version": "1.5.0",
            "_model_name": "ProgressStyleModel",
            "_view_count": null,
            "_view_module": "@jupyter-widgets/base",
            "_view_module_version": "1.2.0",
            "_view_name": "StyleView",
            "bar_color": null,
            "description_width": ""
          }
        },
        "c98e78e292b04805bda513f488c6d1e9": {
          "model_module": "@jupyter-widgets/base",
          "model_module_version": "1.2.0",
          "model_name": "LayoutModel",
          "state": {
            "_model_module": "@jupyter-widgets/base",
            "_model_module_version": "1.2.0",
            "_model_name": "LayoutModel",
            "_view_count": null,
            "_view_module": "@jupyter-widgets/base",
            "_view_module_version": "1.2.0",
            "_view_name": "LayoutView",
            "align_content": null,
            "align_items": null,
            "align_self": null,
            "border": null,
            "bottom": null,
            "display": null,
            "flex": null,
            "flex_flow": null,
            "grid_area": null,
            "grid_auto_columns": null,
            "grid_auto_flow": null,
            "grid_auto_rows": null,
            "grid_column": null,
            "grid_gap": null,
            "grid_row": null,
            "grid_template_areas": null,
            "grid_template_columns": null,
            "grid_template_rows": null,
            "height": null,
            "justify_content": null,
            "justify_items": null,
            "left": null,
            "margin": null,
            "max_height": null,
            "max_width": null,
            "min_height": null,
            "min_width": null,
            "object_fit": null,
            "object_position": null,
            "order": null,
            "overflow": null,
            "overflow_x": null,
            "overflow_y": null,
            "padding": null,
            "right": null,
            "top": null,
            "visibility": null,
            "width": null
          }
        },
        "ce5c918c87bd4a9089a797c62b62c2b7": {
          "model_module": "@jupyter-widgets/controls",
          "model_module_version": "1.5.0",
          "model_name": "DescriptionStyleModel",
          "state": {
            "_model_module": "@jupyter-widgets/controls",
            "_model_module_version": "1.5.0",
            "_model_name": "DescriptionStyleModel",
            "_view_count": null,
            "_view_module": "@jupyter-widgets/base",
            "_view_module_version": "1.2.0",
            "_view_name": "StyleView",
            "description_width": ""
          }
        },
        "d07fbf1c8703440fb5ec3d444a773fca": {
          "model_module": "@jupyter-widgets/base",
          "model_module_version": "1.2.0",
          "model_name": "LayoutModel",
          "state": {
            "_model_module": "@jupyter-widgets/base",
            "_model_module_version": "1.2.0",
            "_model_name": "LayoutModel",
            "_view_count": null,
            "_view_module": "@jupyter-widgets/base",
            "_view_module_version": "1.2.0",
            "_view_name": "LayoutView",
            "align_content": null,
            "align_items": null,
            "align_self": null,
            "border": null,
            "bottom": null,
            "display": null,
            "flex": null,
            "flex_flow": null,
            "grid_area": null,
            "grid_auto_columns": null,
            "grid_auto_flow": null,
            "grid_auto_rows": null,
            "grid_column": null,
            "grid_gap": null,
            "grid_row": null,
            "grid_template_areas": null,
            "grid_template_columns": null,
            "grid_template_rows": null,
            "height": null,
            "justify_content": null,
            "justify_items": null,
            "left": null,
            "margin": null,
            "max_height": null,
            "max_width": null,
            "min_height": null,
            "min_width": null,
            "object_fit": null,
            "object_position": null,
            "order": null,
            "overflow": null,
            "overflow_x": null,
            "overflow_y": null,
            "padding": null,
            "right": null,
            "top": null,
            "visibility": null,
            "width": null
          }
        },
        "d431594b0634450ebfb7eddf7b80ca56": {
          "model_module": "@jupyter-widgets/controls",
          "model_module_version": "1.5.0",
          "model_name": "HTMLModel",
          "state": {
            "_dom_classes": [],
            "_model_module": "@jupyter-widgets/controls",
            "_model_module_version": "1.5.0",
            "_model_name": "HTMLModel",
            "_view_count": null,
            "_view_module": "@jupyter-widgets/controls",
            "_view_module_version": "1.5.0",
            "_view_name": "HTMLView",
            "description": "",
            "description_tooltip": null,
            "layout": "IPY_MODEL_f286dd640a2b4fce9d3f5bb54ce2f84e",
            "placeholder": "​",
            "style": "IPY_MODEL_da5b20c5022246e0b29292e4252e55d3",
            "value": " 32/32 [00:04&lt;00:00, 10.20it/s]"
          }
        },
        "d5d0b6e665fd4308aa767a772c2ddc35": {
          "model_module": "@jupyter-widgets/base",
          "model_module_version": "1.2.0",
          "model_name": "LayoutModel",
          "state": {
            "_model_module": "@jupyter-widgets/base",
            "_model_module_version": "1.2.0",
            "_model_name": "LayoutModel",
            "_view_count": null,
            "_view_module": "@jupyter-widgets/base",
            "_view_module_version": "1.2.0",
            "_view_name": "LayoutView",
            "align_content": null,
            "align_items": null,
            "align_self": null,
            "border": null,
            "bottom": null,
            "display": null,
            "flex": null,
            "flex_flow": null,
            "grid_area": null,
            "grid_auto_columns": null,
            "grid_auto_flow": null,
            "grid_auto_rows": null,
            "grid_column": null,
            "grid_gap": null,
            "grid_row": null,
            "grid_template_areas": null,
            "grid_template_columns": null,
            "grid_template_rows": null,
            "height": null,
            "justify_content": null,
            "justify_items": null,
            "left": null,
            "margin": null,
            "max_height": null,
            "max_width": null,
            "min_height": null,
            "min_width": null,
            "object_fit": null,
            "object_position": null,
            "order": null,
            "overflow": null,
            "overflow_x": null,
            "overflow_y": null,
            "padding": null,
            "right": null,
            "top": null,
            "visibility": null,
            "width": null
          }
        },
        "d83af5f0014544468f662f7407419c92": {
          "model_module": "@jupyter-widgets/base",
          "model_module_version": "1.2.0",
          "model_name": "LayoutModel",
          "state": {
            "_model_module": "@jupyter-widgets/base",
            "_model_module_version": "1.2.0",
            "_model_name": "LayoutModel",
            "_view_count": null,
            "_view_module": "@jupyter-widgets/base",
            "_view_module_version": "1.2.0",
            "_view_name": "LayoutView",
            "align_content": null,
            "align_items": null,
            "align_self": null,
            "border": null,
            "bottom": null,
            "display": null,
            "flex": null,
            "flex_flow": null,
            "grid_area": null,
            "grid_auto_columns": null,
            "grid_auto_flow": null,
            "grid_auto_rows": null,
            "grid_column": null,
            "grid_gap": null,
            "grid_row": null,
            "grid_template_areas": null,
            "grid_template_columns": null,
            "grid_template_rows": null,
            "height": null,
            "justify_content": null,
            "justify_items": null,
            "left": null,
            "margin": null,
            "max_height": null,
            "max_width": null,
            "min_height": null,
            "min_width": null,
            "object_fit": null,
            "object_position": null,
            "order": null,
            "overflow": null,
            "overflow_x": null,
            "overflow_y": null,
            "padding": null,
            "right": null,
            "top": null,
            "visibility": null,
            "width": null
          }
        },
        "da5b20c5022246e0b29292e4252e55d3": {
          "model_module": "@jupyter-widgets/controls",
          "model_module_version": "1.5.0",
          "model_name": "DescriptionStyleModel",
          "state": {
            "_model_module": "@jupyter-widgets/controls",
            "_model_module_version": "1.5.0",
            "_model_name": "DescriptionStyleModel",
            "_view_count": null,
            "_view_module": "@jupyter-widgets/base",
            "_view_module_version": "1.2.0",
            "_view_name": "StyleView",
            "description_width": ""
          }
        },
        "dc381344b8464a3e9d037ce34acf8955": {
          "model_module": "@jupyter-widgets/controls",
          "model_module_version": "1.5.0",
          "model_name": "HBoxModel",
          "state": {
            "_dom_classes": [],
            "_model_module": "@jupyter-widgets/controls",
            "_model_module_version": "1.5.0",
            "_model_name": "HBoxModel",
            "_view_count": null,
            "_view_module": "@jupyter-widgets/controls",
            "_view_module_version": "1.5.0",
            "_view_name": "HBoxView",
            "box_style": "",
            "children": [
              "IPY_MODEL_f245547a0b4f487db945959e741c2865",
              "IPY_MODEL_f802a7119f544d43866caed95c167ac0",
              "IPY_MODEL_d431594b0634450ebfb7eddf7b80ca56"
            ],
            "layout": "IPY_MODEL_90b1104adc754e9b846774fadd641aaf"
          }
        },
        "e4ec83b2d1bc4321842af5b7c1a083f5": {
          "model_module": "@jupyter-widgets/base",
          "model_module_version": "1.2.0",
          "model_name": "LayoutModel",
          "state": {
            "_model_module": "@jupyter-widgets/base",
            "_model_module_version": "1.2.0",
            "_model_name": "LayoutModel",
            "_view_count": null,
            "_view_module": "@jupyter-widgets/base",
            "_view_module_version": "1.2.0",
            "_view_name": "LayoutView",
            "align_content": null,
            "align_items": null,
            "align_self": null,
            "border": null,
            "bottom": null,
            "display": null,
            "flex": null,
            "flex_flow": null,
            "grid_area": null,
            "grid_auto_columns": null,
            "grid_auto_flow": null,
            "grid_auto_rows": null,
            "grid_column": null,
            "grid_gap": null,
            "grid_row": null,
            "grid_template_areas": null,
            "grid_template_columns": null,
            "grid_template_rows": null,
            "height": null,
            "justify_content": null,
            "justify_items": null,
            "left": null,
            "margin": null,
            "max_height": null,
            "max_width": null,
            "min_height": null,
            "min_width": null,
            "object_fit": null,
            "object_position": null,
            "order": null,
            "overflow": null,
            "overflow_x": null,
            "overflow_y": null,
            "padding": null,
            "right": null,
            "top": null,
            "visibility": null,
            "width": null
          }
        },
        "e528b60f55f040f0bf50657d5a3c4e55": {
          "model_module": "@jupyter-widgets/controls",
          "model_module_version": "1.5.0",
          "model_name": "DescriptionStyleModel",
          "state": {
            "_model_module": "@jupyter-widgets/controls",
            "_model_module_version": "1.5.0",
            "_model_name": "DescriptionStyleModel",
            "_view_count": null,
            "_view_module": "@jupyter-widgets/base",
            "_view_module_version": "1.2.0",
            "_view_name": "StyleView",
            "description_width": ""
          }
        },
        "e84789d1fc4949d48493a2db729a856f": {
          "model_module": "@jupyter-widgets/controls",
          "model_module_version": "1.5.0",
          "model_name": "HBoxModel",
          "state": {
            "_dom_classes": [],
            "_model_module": "@jupyter-widgets/controls",
            "_model_module_version": "1.5.0",
            "_model_name": "HBoxModel",
            "_view_count": null,
            "_view_module": "@jupyter-widgets/controls",
            "_view_module_version": "1.5.0",
            "_view_name": "HBoxView",
            "box_style": "",
            "children": [
              "IPY_MODEL_a0828a4061714ae98a9b25957e3180ac",
              "IPY_MODEL_ee1a2bbe68e946768642453af5ac5c2d",
              "IPY_MODEL_5e2718784e904faeb472e956ce15f6cc"
            ],
            "layout": "IPY_MODEL_9c3e6d7b7f00432f8c1c24aebb2a8191"
          }
        },
        "ebf11a59be124789b6cf2ed5c8e18eb7": {
          "model_module": "@jupyter-widgets/base",
          "model_module_version": "1.2.0",
          "model_name": "LayoutModel",
          "state": {
            "_model_module": "@jupyter-widgets/base",
            "_model_module_version": "1.2.0",
            "_model_name": "LayoutModel",
            "_view_count": null,
            "_view_module": "@jupyter-widgets/base",
            "_view_module_version": "1.2.0",
            "_view_name": "LayoutView",
            "align_content": null,
            "align_items": null,
            "align_self": null,
            "border": null,
            "bottom": null,
            "display": null,
            "flex": null,
            "flex_flow": null,
            "grid_area": null,
            "grid_auto_columns": null,
            "grid_auto_flow": null,
            "grid_auto_rows": null,
            "grid_column": null,
            "grid_gap": null,
            "grid_row": null,
            "grid_template_areas": null,
            "grid_template_columns": null,
            "grid_template_rows": null,
            "height": null,
            "justify_content": null,
            "justify_items": null,
            "left": null,
            "margin": null,
            "max_height": null,
            "max_width": null,
            "min_height": null,
            "min_width": null,
            "object_fit": null,
            "object_position": null,
            "order": null,
            "overflow": null,
            "overflow_x": null,
            "overflow_y": null,
            "padding": null,
            "right": null,
            "top": null,
            "visibility": null,
            "width": null
          }
        },
        "ec4c86d05b6c4b60bc77945286dc1367": {
          "model_module": "@jupyter-widgets/base",
          "model_module_version": "1.2.0",
          "model_name": "LayoutModel",
          "state": {
            "_model_module": "@jupyter-widgets/base",
            "_model_module_version": "1.2.0",
            "_model_name": "LayoutModel",
            "_view_count": null,
            "_view_module": "@jupyter-widgets/base",
            "_view_module_version": "1.2.0",
            "_view_name": "LayoutView",
            "align_content": null,
            "align_items": null,
            "align_self": null,
            "border": null,
            "bottom": null,
            "display": null,
            "flex": null,
            "flex_flow": null,
            "grid_area": null,
            "grid_auto_columns": null,
            "grid_auto_flow": null,
            "grid_auto_rows": null,
            "grid_column": null,
            "grid_gap": null,
            "grid_row": null,
            "grid_template_areas": null,
            "grid_template_columns": null,
            "grid_template_rows": null,
            "height": null,
            "justify_content": null,
            "justify_items": null,
            "left": null,
            "margin": null,
            "max_height": null,
            "max_width": null,
            "min_height": null,
            "min_width": null,
            "object_fit": null,
            "object_position": null,
            "order": null,
            "overflow": null,
            "overflow_x": null,
            "overflow_y": null,
            "padding": null,
            "right": null,
            "top": null,
            "visibility": null,
            "width": null
          }
        },
        "edb6593ff61b4cb2973164b68aae9e93": {
          "model_module": "@jupyter-widgets/base",
          "model_module_version": "1.2.0",
          "model_name": "LayoutModel",
          "state": {
            "_model_module": "@jupyter-widgets/base",
            "_model_module_version": "1.2.0",
            "_model_name": "LayoutModel",
            "_view_count": null,
            "_view_module": "@jupyter-widgets/base",
            "_view_module_version": "1.2.0",
            "_view_name": "LayoutView",
            "align_content": null,
            "align_items": null,
            "align_self": null,
            "border": null,
            "bottom": null,
            "display": null,
            "flex": null,
            "flex_flow": null,
            "grid_area": null,
            "grid_auto_columns": null,
            "grid_auto_flow": null,
            "grid_auto_rows": null,
            "grid_column": null,
            "grid_gap": null,
            "grid_row": null,
            "grid_template_areas": null,
            "grid_template_columns": null,
            "grid_template_rows": null,
            "height": null,
            "justify_content": null,
            "justify_items": null,
            "left": null,
            "margin": null,
            "max_height": null,
            "max_width": null,
            "min_height": null,
            "min_width": null,
            "object_fit": null,
            "object_position": null,
            "order": null,
            "overflow": null,
            "overflow_x": null,
            "overflow_y": null,
            "padding": null,
            "right": null,
            "top": null,
            "visibility": null,
            "width": null
          }
        },
        "ee1a2bbe68e946768642453af5ac5c2d": {
          "model_module": "@jupyter-widgets/controls",
          "model_module_version": "1.5.0",
          "model_name": "FloatProgressModel",
          "state": {
            "_dom_classes": [],
            "_model_module": "@jupyter-widgets/controls",
            "_model_module_version": "1.5.0",
            "_model_name": "FloatProgressModel",
            "_view_count": null,
            "_view_module": "@jupyter-widgets/controls",
            "_view_module_version": "1.5.0",
            "_view_name": "ProgressView",
            "bar_style": "success",
            "description": "",
            "description_tooltip": null,
            "layout": "IPY_MODEL_9348d4df812140f7853e43a9921203ca",
            "max": 32,
            "min": 0,
            "orientation": "horizontal",
            "style": "IPY_MODEL_8f6d3e76560546faa385f649d22bf6e6",
            "value": 32
          }
        },
        "effbf657b47c481d96444841fed8f39e": {
          "model_module": "@jupyter-widgets/controls",
          "model_module_version": "1.5.0",
          "model_name": "DescriptionStyleModel",
          "state": {
            "_model_module": "@jupyter-widgets/controls",
            "_model_module_version": "1.5.0",
            "_model_name": "DescriptionStyleModel",
            "_view_count": null,
            "_view_module": "@jupyter-widgets/base",
            "_view_module_version": "1.2.0",
            "_view_name": "StyleView",
            "description_width": ""
          }
        },
        "f245547a0b4f487db945959e741c2865": {
          "model_module": "@jupyter-widgets/controls",
          "model_module_version": "1.5.0",
          "model_name": "HTMLModel",
          "state": {
            "_dom_classes": [],
            "_model_module": "@jupyter-widgets/controls",
            "_model_module_version": "1.5.0",
            "_model_name": "HTMLModel",
            "_view_count": null,
            "_view_module": "@jupyter-widgets/controls",
            "_view_module_version": "1.5.0",
            "_view_name": "HTMLView",
            "description": "",
            "description_tooltip": null,
            "layout": "IPY_MODEL_020220304f114b4185a98d53211ec169",
            "placeholder": "​",
            "style": "IPY_MODEL_effbf657b47c481d96444841fed8f39e",
            "value": "100%"
          }
        },
        "f286dd640a2b4fce9d3f5bb54ce2f84e": {
          "model_module": "@jupyter-widgets/base",
          "model_module_version": "1.2.0",
          "model_name": "LayoutModel",
          "state": {
            "_model_module": "@jupyter-widgets/base",
            "_model_module_version": "1.2.0",
            "_model_name": "LayoutModel",
            "_view_count": null,
            "_view_module": "@jupyter-widgets/base",
            "_view_module_version": "1.2.0",
            "_view_name": "LayoutView",
            "align_content": null,
            "align_items": null,
            "align_self": null,
            "border": null,
            "bottom": null,
            "display": null,
            "flex": null,
            "flex_flow": null,
            "grid_area": null,
            "grid_auto_columns": null,
            "grid_auto_flow": null,
            "grid_auto_rows": null,
            "grid_column": null,
            "grid_gap": null,
            "grid_row": null,
            "grid_template_areas": null,
            "grid_template_columns": null,
            "grid_template_rows": null,
            "height": null,
            "justify_content": null,
            "justify_items": null,
            "left": null,
            "margin": null,
            "max_height": null,
            "max_width": null,
            "min_height": null,
            "min_width": null,
            "object_fit": null,
            "object_position": null,
            "order": null,
            "overflow": null,
            "overflow_x": null,
            "overflow_y": null,
            "padding": null,
            "right": null,
            "top": null,
            "visibility": null,
            "width": null
          }
        },
        "f5a185ab10b74302b6054471c0110308": {
          "model_module": "@jupyter-widgets/base",
          "model_module_version": "1.2.0",
          "model_name": "LayoutModel",
          "state": {
            "_model_module": "@jupyter-widgets/base",
            "_model_module_version": "1.2.0",
            "_model_name": "LayoutModel",
            "_view_count": null,
            "_view_module": "@jupyter-widgets/base",
            "_view_module_version": "1.2.0",
            "_view_name": "LayoutView",
            "align_content": null,
            "align_items": null,
            "align_self": null,
            "border": null,
            "bottom": null,
            "display": null,
            "flex": null,
            "flex_flow": null,
            "grid_area": null,
            "grid_auto_columns": null,
            "grid_auto_flow": null,
            "grid_auto_rows": null,
            "grid_column": null,
            "grid_gap": null,
            "grid_row": null,
            "grid_template_areas": null,
            "grid_template_columns": null,
            "grid_template_rows": null,
            "height": null,
            "justify_content": null,
            "justify_items": null,
            "left": null,
            "margin": null,
            "max_height": null,
            "max_width": null,
            "min_height": null,
            "min_width": null,
            "object_fit": null,
            "object_position": null,
            "order": null,
            "overflow": null,
            "overflow_x": null,
            "overflow_y": null,
            "padding": null,
            "right": null,
            "top": null,
            "visibility": null,
            "width": null
          }
        },
        "f802a7119f544d43866caed95c167ac0": {
          "model_module": "@jupyter-widgets/controls",
          "model_module_version": "1.5.0",
          "model_name": "FloatProgressModel",
          "state": {
            "_dom_classes": [],
            "_model_module": "@jupyter-widgets/controls",
            "_model_module_version": "1.5.0",
            "_model_name": "FloatProgressModel",
            "_view_count": null,
            "_view_module": "@jupyter-widgets/controls",
            "_view_module_version": "1.5.0",
            "_view_name": "ProgressView",
            "bar_style": "success",
            "description": "",
            "description_tooltip": null,
            "layout": "IPY_MODEL_edb6593ff61b4cb2973164b68aae9e93",
            "max": 32,
            "min": 0,
            "orientation": "horizontal",
            "style": "IPY_MODEL_40f37c4834304452954eaacfcb92f540",
            "value": 32
          }
        },
        "fdf87e86b7f94a2fbf14d4f84314cab3": {
          "model_module": "@jupyter-widgets/controls",
          "model_module_version": "1.5.0",
          "model_name": "HBoxModel",
          "state": {
            "_dom_classes": [],
            "_model_module": "@jupyter-widgets/controls",
            "_model_module_version": "1.5.0",
            "_model_name": "HBoxModel",
            "_view_count": null,
            "_view_module": "@jupyter-widgets/controls",
            "_view_module_version": "1.5.0",
            "_view_name": "HBoxView",
            "box_style": "",
            "children": [
              "IPY_MODEL_b833c1dab8b74a7a867a7cbfdab83793",
              "IPY_MODEL_27994f49e50b49b4ace221e04e9e136f",
              "IPY_MODEL_5a6bfea63d284940a84b3ef29e941c14"
            ],
            "layout": "IPY_MODEL_ac63f0f597e44ae3b25e8042764cdf45"
          }
        }
      }
    }
  },
  "nbformat": 4,
  "nbformat_minor": 0
}
